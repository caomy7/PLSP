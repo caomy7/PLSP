{
  "nbformat": 4,
  "nbformat_minor": 0,
  "metadata": {
    "colab": {
      "provenance": [],
      "authorship_tag": "ABX9TyPnZbqiOqCb110naqaD1SNo",
      "include_colab_link": true
    },
    "kernelspec": {
      "name": "python3",
      "display_name": "Python 3"
    },
    "language_info": {
      "name": "python"
    },
    "widgets": {
      "application/vnd.jupyter.widget-state+json": {
        "4f23b9aea3bd4191a9fbeb2fc668c566": {
          "model_module": "jupyter-leaflet",
          "model_name": "LeafletMapModel",
          "model_module_version": "^0.17",
          "state": {
            "_dom_classes": [],
            "_model_module": "jupyter-leaflet",
            "_model_module_version": "^0.17",
            "_model_name": "LeafletMapModel",
            "_view_count": null,
            "_view_module": "jupyter-leaflet",
            "_view_module_version": "^0.17",
            "_view_name": "LeafletMapView",
            "bottom": 0,
            "bounce_at_zoom_limits": true,
            "box_zoom": true,
            "center": [
              20,
              0
            ],
            "close_popup_on_click": true,
            "controls": [
              "IPY_MODEL_3c3d3d94f061411b97d1e7117654d096",
              "IPY_MODEL_bf44c482b9b041f8a98c0fe37a632c85",
              "IPY_MODEL_4d177cec750245d88d3bf1e45c469a86",
              "IPY_MODEL_d7cd2b2ba057483e8380fa81160863dc",
              "IPY_MODEL_0c13da759e64489f9aed27714d7b57f9",
              "IPY_MODEL_65454a5d62fa4e1a9f0704f424979fb7",
              "IPY_MODEL_7c84ffcc45be4b2a981a29c4db47be04",
              "IPY_MODEL_a8a82107868449bc853de946cebaa983",
              "IPY_MODEL_326d337d3b3c42d1b7de17b455babd77"
            ],
            "crs": {
              "name": "EPSG3857",
              "custom": false
            },
            "default_style": "IPY_MODEL_f544af9b33fb470ca78b6f771141dbdf",
            "double_click_zoom": true,
            "dragging": true,
            "dragging_style": "IPY_MODEL_1bde785fcd5c4da68b021f0fc2fd933c",
            "east": 0,
            "fullscreen": false,
            "inertia": true,
            "inertia_deceleration": 3000,
            "inertia_max_speed": 1500,
            "interpolation": "bilinear",
            "keyboard": true,
            "keyboard_pan_offset": 80,
            "keyboard_zoom_offset": 1,
            "layers": [
              "IPY_MODEL_4f41b050bb514674990e76fd160d8805",
              "IPY_MODEL_a005e9a4c0054e23b8fe09145a9c04be",
              "IPY_MODEL_146a1b9818fd4a19bc63b724646d9656"
            ],
            "layout": "IPY_MODEL_771ba6542509449cb81992c258280da7",
            "left": 9007199254740991,
            "max_zoom": 24,
            "min_zoom": null,
            "modisdate": "2022-12-31",
            "north": 0,
            "options": [
              "bounce_at_zoom_limits",
              "box_zoom",
              "center",
              "close_popup_on_click",
              "double_click_zoom",
              "dragging",
              "fullscreen",
              "inertia",
              "inertia_deceleration",
              "inertia_max_speed",
              "interpolation",
              "keyboard",
              "keyboard_pan_offset",
              "keyboard_zoom_offset",
              "max_zoom",
              "min_zoom",
              "prefer_canvas",
              "scroll_wheel_zoom",
              "tap",
              "tap_tolerance",
              "touch_zoom",
              "world_copy_jump",
              "zoom",
              "zoom_animation_threshold",
              "zoom_delta",
              "zoom_snap"
            ],
            "panes": {},
            "prefer_canvas": false,
            "right": 0,
            "scroll_wheel_zoom": true,
            "south": 0,
            "style": "IPY_MODEL_f81aa66c96d1449f8ff2253d8d2b2a37",
            "tap": true,
            "tap_tolerance": 15,
            "top": 9007199254740991,
            "touch_zoom": true,
            "west": 0,
            "window_url": "",
            "world_copy_jump": false,
            "zoom": 2,
            "zoom_animation_threshold": 4,
            "zoom_delta": 1,
            "zoom_snap": 1
          }
        },
        "3c3d3d94f061411b97d1e7117654d096": {
          "model_module": "jupyter-leaflet",
          "model_name": "LeafletWidgetControlModel",
          "model_module_version": "^0.17",
          "state": {
            "_model_module": "jupyter-leaflet",
            "_model_module_version": "^0.17",
            "_model_name": "LeafletWidgetControlModel",
            "_view_count": null,
            "_view_module": "jupyter-leaflet",
            "_view_module_version": "^0.17",
            "_view_name": "LeafletWidgetControlView",
            "max_height": null,
            "max_width": null,
            "min_height": null,
            "min_width": null,
            "options": [
              "position",
              "transparent_bg"
            ],
            "position": "topleft",
            "transparent_bg": false,
            "widget": "IPY_MODEL_4de7c8070d474e6aa551adde92631db5"
          }
        },
        "bf44c482b9b041f8a98c0fe37a632c85": {
          "model_module": "jupyter-leaflet",
          "model_name": "LeafletZoomControlModel",
          "model_module_version": "^0.17",
          "state": {
            "_model_module": "jupyter-leaflet",
            "_model_module_version": "^0.17",
            "_model_name": "LeafletZoomControlModel",
            "_view_count": null,
            "_view_module": "jupyter-leaflet",
            "_view_module_version": "^0.17",
            "_view_name": "LeafletZoomControlView",
            "options": [
              "position",
              "zoom_in_text",
              "zoom_in_title",
              "zoom_out_text",
              "zoom_out_title"
            ],
            "position": "topleft",
            "zoom_in_text": "+",
            "zoom_in_title": "Zoom in",
            "zoom_out_text": "-",
            "zoom_out_title": "Zoom out"
          }
        },
        "4d177cec750245d88d3bf1e45c469a86": {
          "model_module": "jupyter-leaflet",
          "model_name": "LeafletScaleControlModel",
          "model_module_version": "^0.17",
          "state": {
            "_model_module": "jupyter-leaflet",
            "_model_module_version": "^0.17",
            "_model_name": "LeafletScaleControlModel",
            "_view_count": null,
            "_view_module": "jupyter-leaflet",
            "_view_module_version": "^0.17",
            "_view_name": "LeafletScaleControlView",
            "imperial": true,
            "max_width": 100,
            "metric": true,
            "options": [
              "imperial",
              "max_width",
              "metric",
              "position",
              "update_when_idle"
            ],
            "position": "bottomleft",
            "update_when_idle": false
          }
        },
        "d7cd2b2ba057483e8380fa81160863dc": {
          "model_module": "jupyter-leaflet",
          "model_name": "LeafletFullScreenControlModel",
          "model_module_version": "^0.17",
          "state": {
            "_model_module": "jupyter-leaflet",
            "_model_module_version": "^0.17",
            "_model_name": "LeafletFullScreenControlModel",
            "_view_count": null,
            "_view_module": "jupyter-leaflet",
            "_view_module_version": "^0.17",
            "_view_name": "LeafletFullScreenControlView",
            "options": [
              "position"
            ],
            "position": "topleft"
          }
        },
        "0c13da759e64489f9aed27714d7b57f9": {
          "model_module": "jupyter-leaflet",
          "model_name": "LeafletMeasureControlModel",
          "model_module_version": "^0.17",
          "state": {
            "_custom_units": {},
            "_model_module": "jupyter-leaflet",
            "_model_module_version": "^0.17",
            "_model_name": "LeafletMeasureControlModel",
            "_view_count": null,
            "_view_module": "jupyter-leaflet",
            "_view_module_version": "^0.17",
            "_view_name": "LeafletMeasureControlView",
            "active_color": "orange",
            "capture_z_index": 10000,
            "completed_color": "#C8F2BE",
            "options": [
              "active_color",
              "capture_z_index",
              "completed_color",
              "popup_options",
              "position",
              "primary_area_unit",
              "primary_length_unit",
              "secondary_area_unit",
              "secondary_length_unit"
            ],
            "popup_options": {
              "className": "leaflet-measure-resultpopup",
              "autoPanPadding": [
                10,
                10
              ]
            },
            "position": "bottomleft",
            "primary_area_unit": "acres",
            "primary_length_unit": "kilometers",
            "secondary_area_unit": null,
            "secondary_length_unit": null
          }
        },
        "65454a5d62fa4e1a9f0704f424979fb7": {
          "model_module": "jupyter-leaflet",
          "model_name": "LeafletAttributionControlModel",
          "model_module_version": "^0.17",
          "state": {
            "_model_module": "jupyter-leaflet",
            "_model_module_version": "^0.17",
            "_model_name": "LeafletAttributionControlModel",
            "_view_count": null,
            "_view_module": "jupyter-leaflet",
            "_view_module_version": "^0.17",
            "_view_name": "LeafletAttributionControlView",
            "options": [
              "position",
              "prefix"
            ],
            "position": "bottomright",
            "prefix": "ipyleaflet"
          }
        },
        "7c84ffcc45be4b2a981a29c4db47be04": {
          "model_module": "jupyter-leaflet",
          "model_name": "LeafletDrawControlModel",
          "model_module_version": "^0.17",
          "state": {
            "_model_module": "jupyter-leaflet",
            "_model_module_version": "^0.17",
            "_model_name": "LeafletDrawControlModel",
            "_view_count": null,
            "_view_module": "jupyter-leaflet",
            "_view_module_version": "^0.17",
            "_view_name": "LeafletDrawControlView",
            "circle": {
              "shapeOptions": {
                "color": "#3388ff"
              }
            },
            "circlemarker": {},
            "data": [],
            "edit": true,
            "marker": {
              "shapeOptions": {
                "color": "#3388ff"
              }
            },
            "options": [
              "position"
            ],
            "polygon": {
              "shapeOptions": {}
            },
            "polyline": {
              "shapeOptions": {}
            },
            "position": "topleft",
            "rectangle": {
              "shapeOptions": {
                "color": "#3388ff"
              }
            },
            "remove": true
          }
        },
        "a8a82107868449bc853de946cebaa983": {
          "model_module": "jupyter-leaflet",
          "model_name": "LeafletWidgetControlModel",
          "model_module_version": "^0.17",
          "state": {
            "_model_module": "jupyter-leaflet",
            "_model_module_version": "^0.17",
            "_model_name": "LeafletWidgetControlModel",
            "_view_count": null,
            "_view_module": "jupyter-leaflet",
            "_view_module_version": "^0.17",
            "_view_name": "LeafletWidgetControlView",
            "max_height": null,
            "max_width": null,
            "min_height": null,
            "min_width": null,
            "options": [
              "position",
              "transparent_bg"
            ],
            "position": "topright",
            "transparent_bg": false,
            "widget": "IPY_MODEL_6ad3c4c77aa04bf79d8d72c3187e28ff"
          }
        },
        "326d337d3b3c42d1b7de17b455babd77": {
          "model_module": "jupyter-leaflet",
          "model_name": "LeafletLayersControlModel",
          "model_module_version": "^0.17",
          "state": {
            "_model_module": "jupyter-leaflet",
            "_model_module_version": "^0.17",
            "_model_name": "LeafletLayersControlModel",
            "_view_count": null,
            "_view_module": "jupyter-leaflet",
            "_view_module_version": "^0.17",
            "_view_name": "LeafletLayersControlView",
            "options": [
              "position"
            ],
            "position": "topright"
          }
        },
        "f544af9b33fb470ca78b6f771141dbdf": {
          "model_module": "jupyter-leaflet",
          "model_name": "LeafletMapStyleModel",
          "model_module_version": "^0.17",
          "state": {
            "_model_module": "jupyter-leaflet",
            "_model_module_version": "^0.17",
            "_model_name": "LeafletMapStyleModel",
            "_view_count": null,
            "_view_module": "@jupyter-widgets/base",
            "_view_module_version": "1.2.0",
            "_view_name": "StyleView",
            "cursor": "grab"
          }
        },
        "1bde785fcd5c4da68b021f0fc2fd933c": {
          "model_module": "jupyter-leaflet",
          "model_name": "LeafletMapStyleModel",
          "model_module_version": "^0.17",
          "state": {
            "_model_module": "jupyter-leaflet",
            "_model_module_version": "^0.17",
            "_model_name": "LeafletMapStyleModel",
            "_view_count": null,
            "_view_module": "@jupyter-widgets/base",
            "_view_module_version": "1.2.0",
            "_view_name": "StyleView",
            "cursor": "move"
          }
        },
        "4f41b050bb514674990e76fd160d8805": {
          "model_module": "jupyter-leaflet",
          "model_name": "LeafletTileLayerModel",
          "model_module_version": "^0.17",
          "state": {
            "_model_module": "jupyter-leaflet",
            "_model_module_version": "^0.17",
            "_model_name": "LeafletTileLayerModel",
            "_view_count": null,
            "_view_module": "jupyter-leaflet",
            "_view_module_version": "^0.17",
            "_view_name": "LeafletTileLayerView",
            "attribution": "&copy; <a href=\"https://www.openstreetmap.org/copyright\">OpenStreetMap</a> contributors",
            "base": true,
            "bottom": true,
            "bounds": null,
            "detect_retina": false,
            "loading": false,
            "max_native_zoom": null,
            "max_zoom": 19,
            "min_native_zoom": null,
            "min_zoom": 1,
            "name": "OpenStreetMap.Mapnik",
            "no_wrap": false,
            "opacity": 1,
            "options": [
              "attribution",
              "bounds",
              "detect_retina",
              "max_native_zoom",
              "max_zoom",
              "min_native_zoom",
              "min_zoom",
              "no_wrap",
              "tile_size",
              "tms",
              "zoom_offset"
            ],
            "pane": "",
            "popup": null,
            "popup_max_height": null,
            "popup_max_width": 300,
            "popup_min_width": 50,
            "show_loading": false,
            "subitems": [],
            "tile_size": 256,
            "tms": false,
            "url": "https://tile.openstreetmap.org/{z}/{x}/{y}.png",
            "visible": true,
            "zoom_offset": 0
          }
        },
        "146a1b9818fd4a19bc63b724646d9656": {
          "model_module": "jupyter-leaflet",
          "model_name": "LeafletTileLayerModel",
          "model_module_version": "^0.17",
          "state": {
            "_model_module": "jupyter-leaflet",
            "_model_module_version": "^0.17",
            "_model_name": "LeafletTileLayerModel",
            "_view_count": null,
            "_view_module": "jupyter-leaflet",
            "_view_module_version": "^0.17",
            "_view_name": "LeafletTileLayerView",
            "attribution": "Google Earth Engine",
            "base": false,
            "bottom": true,
            "bounds": null,
            "detect_retina": false,
            "loading": false,
            "max_native_zoom": null,
            "max_zoom": 24,
            "min_native_zoom": null,
            "min_zoom": 0,
            "name": "sentinel_cloudfree",
            "no_wrap": false,
            "opacity": 1,
            "options": [
              "attribution",
              "bounds",
              "detect_retina",
              "max_native_zoom",
              "max_zoom",
              "min_native_zoom",
              "min_zoom",
              "no_wrap",
              "tile_size",
              "tms",
              "zoom_offset"
            ],
            "pane": "",
            "popup": null,
            "popup_max_height": null,
            "popup_max_width": 300,
            "popup_min_width": 50,
            "show_loading": false,
            "subitems": [],
            "tile_size": 256,
            "tms": false,
            "url": "https://earthengine.googleapis.com/v1alpha/projects/earthengine-legacy/maps/f5e29673ef2690597abf21b2f278a78d-e7ffade8a02b8c632bc7f667cee6e060/tiles/{z}/{x}/{y}",
            "visible": true,
            "zoom_offset": 0
          }
        },
        "771ba6542509449cb81992c258280da7": {
          "model_module": "@jupyter-widgets/base",
          "model_name": "LayoutModel",
          "model_module_version": "1.2.0",
          "state": {
            "_model_module": "@jupyter-widgets/base",
            "_model_module_version": "1.2.0",
            "_model_name": "LayoutModel",
            "_view_count": null,
            "_view_module": "@jupyter-widgets/base",
            "_view_module_version": "1.2.0",
            "_view_name": "LayoutView",
            "align_content": null,
            "align_items": null,
            "align_self": null,
            "border": null,
            "bottom": null,
            "display": null,
            "flex": null,
            "flex_flow": null,
            "grid_area": null,
            "grid_auto_columns": null,
            "grid_auto_flow": null,
            "grid_auto_rows": null,
            "grid_column": null,
            "grid_gap": null,
            "grid_row": null,
            "grid_template_areas": null,
            "grid_template_columns": null,
            "grid_template_rows": null,
            "height": "600px",
            "justify_content": null,
            "justify_items": null,
            "left": null,
            "margin": null,
            "max_height": null,
            "max_width": null,
            "min_height": null,
            "min_width": null,
            "object_fit": null,
            "object_position": null,
            "order": null,
            "overflow": null,
            "overflow_x": null,
            "overflow_y": null,
            "padding": null,
            "right": null,
            "top": null,
            "visibility": null,
            "width": null
          }
        },
        "f81aa66c96d1449f8ff2253d8d2b2a37": {
          "model_module": "jupyter-leaflet",
          "model_name": "LeafletMapStyleModel",
          "model_module_version": "^0.17",
          "state": {
            "_model_module": "jupyter-leaflet",
            "_model_module_version": "^0.17",
            "_model_name": "LeafletMapStyleModel",
            "_view_count": null,
            "_view_module": "@jupyter-widgets/base",
            "_view_module_version": "1.2.0",
            "_view_name": "StyleView",
            "cursor": "grab"
          }
        },
        "4de7c8070d474e6aa551adde92631db5": {
          "model_module": "@jupyter-widgets/controls",
          "model_name": "HBoxModel",
          "model_module_version": "1.5.0",
          "state": {
            "_dom_classes": [],
            "_model_module": "@jupyter-widgets/controls",
            "_model_module_version": "1.5.0",
            "_model_name": "HBoxModel",
            "_view_count": null,
            "_view_module": "@jupyter-widgets/controls",
            "_view_module_version": "1.5.0",
            "_view_name": "HBoxView",
            "box_style": "",
            "children": [
              "IPY_MODEL_b537a1da1a1b43609e3116bb2a148ca7"
            ],
            "layout": "IPY_MODEL_75fc3b3012cb46da8dab914c6d92bc6b"
          }
        },
        "6ad3c4c77aa04bf79d8d72c3187e28ff": {
          "model_module": "@jupyter-widgets/controls",
          "model_name": "VBoxModel",
          "model_module_version": "1.5.0",
          "state": {
            "_dom_classes": [],
            "_model_module": "@jupyter-widgets/controls",
            "_model_module_version": "1.5.0",
            "_model_name": "VBoxModel",
            "_view_count": null,
            "_view_module": "@jupyter-widgets/controls",
            "_view_module_version": "1.5.0",
            "_view_name": "VBoxView",
            "box_style": "",
            "children": [
              "IPY_MODEL_a7eaac898dd84b528b1e4244ae7ddc98"
            ],
            "layout": "IPY_MODEL_138086acd48f44af962262a2930234fe"
          }
        },
        "b537a1da1a1b43609e3116bb2a148ca7": {
          "model_module": "@jupyter-widgets/controls",
          "model_name": "ToggleButtonModel",
          "model_module_version": "1.5.0",
          "state": {
            "_dom_classes": [],
            "_model_module": "@jupyter-widgets/controls",
            "_model_module_version": "1.5.0",
            "_model_name": "ToggleButtonModel",
            "_view_count": null,
            "_view_module": "@jupyter-widgets/controls",
            "_view_module_version": "1.5.0",
            "_view_name": "ToggleButtonView",
            "button_style": "",
            "description": "",
            "description_tooltip": null,
            "disabled": false,
            "icon": "globe",
            "layout": "IPY_MODEL_61541b0e35934ae992fd2a1e318e8320",
            "style": "IPY_MODEL_0bdf7b6584024a55bf5dcb30464869fe",
            "tooltip": "Search location/data",
            "value": false
          }
        },
        "75fc3b3012cb46da8dab914c6d92bc6b": {
          "model_module": "@jupyter-widgets/base",
          "model_name": "LayoutModel",
          "model_module_version": "1.2.0",
          "state": {
            "_model_module": "@jupyter-widgets/base",
            "_model_module_version": "1.2.0",
            "_model_name": "LayoutModel",
            "_view_count": null,
            "_view_module": "@jupyter-widgets/base",
            "_view_module_version": "1.2.0",
            "_view_name": "LayoutView",
            "align_content": null,
            "align_items": null,
            "align_self": null,
            "border": null,
            "bottom": null,
            "display": null,
            "flex": null,
            "flex_flow": null,
            "grid_area": null,
            "grid_auto_columns": null,
            "grid_auto_flow": null,
            "grid_auto_rows": null,
            "grid_column": null,
            "grid_gap": null,
            "grid_row": null,
            "grid_template_areas": null,
            "grid_template_columns": null,
            "grid_template_rows": null,
            "height": null,
            "justify_content": null,
            "justify_items": null,
            "left": null,
            "margin": null,
            "max_height": null,
            "max_width": null,
            "min_height": null,
            "min_width": null,
            "object_fit": null,
            "object_position": null,
            "order": null,
            "overflow": null,
            "overflow_x": null,
            "overflow_y": null,
            "padding": null,
            "right": null,
            "top": null,
            "visibility": null,
            "width": null
          }
        },
        "a7eaac898dd84b528b1e4244ae7ddc98": {
          "model_module": "@jupyter-widgets/controls",
          "model_name": "ToggleButtonModel",
          "model_module_version": "1.5.0",
          "state": {
            "_dom_classes": [],
            "_model_module": "@jupyter-widgets/controls",
            "_model_module_version": "1.5.0",
            "_model_name": "ToggleButtonModel",
            "_view_count": null,
            "_view_module": "@jupyter-widgets/controls",
            "_view_module_version": "1.5.0",
            "_view_name": "ToggleButtonView",
            "button_style": "",
            "description": "",
            "description_tooltip": null,
            "disabled": false,
            "icon": "wrench",
            "layout": "IPY_MODEL_0d8131498f9e406391204de710889f1a",
            "style": "IPY_MODEL_cfc0be49721a41b0b54275d70adc678e",
            "tooltip": "Toolbar",
            "value": false
          }
        },
        "138086acd48f44af962262a2930234fe": {
          "model_module": "@jupyter-widgets/base",
          "model_name": "LayoutModel",
          "model_module_version": "1.2.0",
          "state": {
            "_model_module": "@jupyter-widgets/base",
            "_model_module_version": "1.2.0",
            "_model_name": "LayoutModel",
            "_view_count": null,
            "_view_module": "@jupyter-widgets/base",
            "_view_module_version": "1.2.0",
            "_view_name": "LayoutView",
            "align_content": null,
            "align_items": null,
            "align_self": null,
            "border": null,
            "bottom": null,
            "display": null,
            "flex": null,
            "flex_flow": null,
            "grid_area": null,
            "grid_auto_columns": null,
            "grid_auto_flow": null,
            "grid_auto_rows": null,
            "grid_column": null,
            "grid_gap": null,
            "grid_row": null,
            "grid_template_areas": null,
            "grid_template_columns": null,
            "grid_template_rows": null,
            "height": null,
            "justify_content": null,
            "justify_items": null,
            "left": null,
            "margin": null,
            "max_height": null,
            "max_width": null,
            "min_height": null,
            "min_width": null,
            "object_fit": null,
            "object_position": null,
            "order": null,
            "overflow": null,
            "overflow_x": null,
            "overflow_y": null,
            "padding": null,
            "right": null,
            "top": null,
            "visibility": null,
            "width": null
          }
        },
        "61541b0e35934ae992fd2a1e318e8320": {
          "model_module": "@jupyter-widgets/base",
          "model_name": "LayoutModel",
          "model_module_version": "1.2.0",
          "state": {
            "_model_module": "@jupyter-widgets/base",
            "_model_module_version": "1.2.0",
            "_model_name": "LayoutModel",
            "_view_count": null,
            "_view_module": "@jupyter-widgets/base",
            "_view_module_version": "1.2.0",
            "_view_name": "LayoutView",
            "align_content": null,
            "align_items": null,
            "align_self": null,
            "border": null,
            "bottom": null,
            "display": null,
            "flex": null,
            "flex_flow": null,
            "grid_area": null,
            "grid_auto_columns": null,
            "grid_auto_flow": null,
            "grid_auto_rows": null,
            "grid_column": null,
            "grid_gap": null,
            "grid_row": null,
            "grid_template_areas": null,
            "grid_template_columns": null,
            "grid_template_rows": null,
            "height": "28px",
            "justify_content": null,
            "justify_items": null,
            "left": null,
            "margin": null,
            "max_height": null,
            "max_width": null,
            "min_height": null,
            "min_width": null,
            "object_fit": null,
            "object_position": null,
            "order": null,
            "overflow": null,
            "overflow_x": null,
            "overflow_y": null,
            "padding": "0px 0px 0px 4px",
            "right": null,
            "top": null,
            "visibility": null,
            "width": "28px"
          }
        },
        "0bdf7b6584024a55bf5dcb30464869fe": {
          "model_module": "@jupyter-widgets/controls",
          "model_name": "DescriptionStyleModel",
          "model_module_version": "1.5.0",
          "state": {
            "_model_module": "@jupyter-widgets/controls",
            "_model_module_version": "1.5.0",
            "_model_name": "DescriptionStyleModel",
            "_view_count": null,
            "_view_module": "@jupyter-widgets/base",
            "_view_module_version": "1.2.0",
            "_view_name": "StyleView",
            "description_width": ""
          }
        },
        "0d8131498f9e406391204de710889f1a": {
          "model_module": "@jupyter-widgets/base",
          "model_name": "LayoutModel",
          "model_module_version": "1.2.0",
          "state": {
            "_model_module": "@jupyter-widgets/base",
            "_model_module_version": "1.2.0",
            "_model_name": "LayoutModel",
            "_view_count": null,
            "_view_module": "@jupyter-widgets/base",
            "_view_module_version": "1.2.0",
            "_view_name": "LayoutView",
            "align_content": null,
            "align_items": null,
            "align_self": null,
            "border": null,
            "bottom": null,
            "display": null,
            "flex": null,
            "flex_flow": null,
            "grid_area": null,
            "grid_auto_columns": null,
            "grid_auto_flow": null,
            "grid_auto_rows": null,
            "grid_column": null,
            "grid_gap": null,
            "grid_row": null,
            "grid_template_areas": null,
            "grid_template_columns": null,
            "grid_template_rows": null,
            "height": "28px",
            "justify_content": null,
            "justify_items": null,
            "left": null,
            "margin": null,
            "max_height": null,
            "max_width": null,
            "min_height": null,
            "min_width": null,
            "object_fit": null,
            "object_position": null,
            "order": null,
            "overflow": null,
            "overflow_x": null,
            "overflow_y": null,
            "padding": "0px 0px 0px 4px",
            "right": null,
            "top": null,
            "visibility": null,
            "width": "28px"
          }
        },
        "cfc0be49721a41b0b54275d70adc678e": {
          "model_module": "@jupyter-widgets/controls",
          "model_name": "DescriptionStyleModel",
          "model_module_version": "1.5.0",
          "state": {
            "_model_module": "@jupyter-widgets/controls",
            "_model_module_version": "1.5.0",
            "_model_name": "DescriptionStyleModel",
            "_view_count": null,
            "_view_module": "@jupyter-widgets/base",
            "_view_module_version": "1.2.0",
            "_view_name": "StyleView",
            "description_width": ""
          }
        },
        "288a1545a1314254a7cfeb091b4931a0": {
          "model_module": "jupyter-leaflet",
          "model_name": "LeafletMapModel",
          "model_module_version": "^0.17",
          "state": {
            "_dom_classes": [],
            "_model_module": "jupyter-leaflet",
            "_model_module_version": "^0.17",
            "_model_name": "LeafletMapModel",
            "_view_count": null,
            "_view_module": "jupyter-leaflet",
            "_view_module_version": "^0.17",
            "_view_name": "LeafletMapView",
            "bottom": 0,
            "bounce_at_zoom_limits": true,
            "box_zoom": true,
            "center": [
              20,
              0
            ],
            "close_popup_on_click": true,
            "controls": [
              "IPY_MODEL_e80c0728a2fc46afa2e43a8a39257898",
              "IPY_MODEL_79a3e245998f468881a6562885240f3c",
              "IPY_MODEL_467abc83b62e47aabebdfa2a7df9a053",
              "IPY_MODEL_977c508782e546d0898f21590ac83428",
              "IPY_MODEL_a4da02f9f73341c0857f2eeef601db9d",
              "IPY_MODEL_0b352f32d891403986d97c28a8abd561",
              "IPY_MODEL_a6777a45b8db4c1fa28e2e53a320fec4",
              "IPY_MODEL_b9ad75d98dc74c70a69c10adc76ee605",
              "IPY_MODEL_36505ad67efa4b0ca20b5fcfaec043c3"
            ],
            "crs": {
              "name": "EPSG3857",
              "custom": false
            },
            "default_style": "IPY_MODEL_d3d3d0f22d394fae8439e532b27a38b4",
            "double_click_zoom": true,
            "dragging": true,
            "dragging_style": "IPY_MODEL_4c20d41c5e7e4be49b9a544446e3e4c2",
            "east": 0,
            "fullscreen": false,
            "inertia": true,
            "inertia_deceleration": 3000,
            "inertia_max_speed": 1500,
            "interpolation": "bilinear",
            "keyboard": true,
            "keyboard_pan_offset": 80,
            "keyboard_zoom_offset": 1,
            "layers": [
              "IPY_MODEL_3a74fc85d8e4448e8b1f4f181f6294ca",
              "IPY_MODEL_a005e9a4c0054e23b8fe09145a9c04be",
              "IPY_MODEL_8e8b78b64a364b01b629a58e840bfa84"
            ],
            "layout": "IPY_MODEL_af387ab813c4446799f4c379beccf44a",
            "left": 9007199254740991,
            "max_zoom": 24,
            "min_zoom": null,
            "modisdate": "2022-12-31",
            "north": 0,
            "options": [
              "bounce_at_zoom_limits",
              "box_zoom",
              "center",
              "close_popup_on_click",
              "double_click_zoom",
              "dragging",
              "fullscreen",
              "inertia",
              "inertia_deceleration",
              "inertia_max_speed",
              "interpolation",
              "keyboard",
              "keyboard_pan_offset",
              "keyboard_zoom_offset",
              "max_zoom",
              "min_zoom",
              "prefer_canvas",
              "scroll_wheel_zoom",
              "tap",
              "tap_tolerance",
              "touch_zoom",
              "world_copy_jump",
              "zoom",
              "zoom_animation_threshold",
              "zoom_delta",
              "zoom_snap"
            ],
            "panes": {},
            "prefer_canvas": false,
            "right": 0,
            "scroll_wheel_zoom": true,
            "south": 0,
            "style": "IPY_MODEL_d50663b3b6b84f0286d340d46ea4ec7e",
            "tap": true,
            "tap_tolerance": 15,
            "top": 9007199254740991,
            "touch_zoom": true,
            "west": 0,
            "window_url": "",
            "world_copy_jump": false,
            "zoom": 2,
            "zoom_animation_threshold": 4,
            "zoom_delta": 1,
            "zoom_snap": 1
          }
        },
        "e80c0728a2fc46afa2e43a8a39257898": {
          "model_module": "jupyter-leaflet",
          "model_name": "LeafletWidgetControlModel",
          "model_module_version": "^0.17",
          "state": {
            "_model_module": "jupyter-leaflet",
            "_model_module_version": "^0.17",
            "_model_name": "LeafletWidgetControlModel",
            "_view_count": null,
            "_view_module": "jupyter-leaflet",
            "_view_module_version": "^0.17",
            "_view_name": "LeafletWidgetControlView",
            "max_height": null,
            "max_width": null,
            "min_height": null,
            "min_width": null,
            "options": [
              "position",
              "transparent_bg"
            ],
            "position": "topleft",
            "transparent_bg": false,
            "widget": "IPY_MODEL_26a25cbc34c54b4aa85c56f4e6cd08a6"
          }
        },
        "79a3e245998f468881a6562885240f3c": {
          "model_module": "jupyter-leaflet",
          "model_name": "LeafletZoomControlModel",
          "model_module_version": "^0.17",
          "state": {
            "_model_module": "jupyter-leaflet",
            "_model_module_version": "^0.17",
            "_model_name": "LeafletZoomControlModel",
            "_view_count": null,
            "_view_module": "jupyter-leaflet",
            "_view_module_version": "^0.17",
            "_view_name": "LeafletZoomControlView",
            "options": [
              "position",
              "zoom_in_text",
              "zoom_in_title",
              "zoom_out_text",
              "zoom_out_title"
            ],
            "position": "topleft",
            "zoom_in_text": "+",
            "zoom_in_title": "Zoom in",
            "zoom_out_text": "-",
            "zoom_out_title": "Zoom out"
          }
        },
        "467abc83b62e47aabebdfa2a7df9a053": {
          "model_module": "jupyter-leaflet",
          "model_name": "LeafletScaleControlModel",
          "model_module_version": "^0.17",
          "state": {
            "_model_module": "jupyter-leaflet",
            "_model_module_version": "^0.17",
            "_model_name": "LeafletScaleControlModel",
            "_view_count": null,
            "_view_module": "jupyter-leaflet",
            "_view_module_version": "^0.17",
            "_view_name": "LeafletScaleControlView",
            "imperial": true,
            "max_width": 100,
            "metric": true,
            "options": [
              "imperial",
              "max_width",
              "metric",
              "position",
              "update_when_idle"
            ],
            "position": "bottomleft",
            "update_when_idle": false
          }
        },
        "977c508782e546d0898f21590ac83428": {
          "model_module": "jupyter-leaflet",
          "model_name": "LeafletFullScreenControlModel",
          "model_module_version": "^0.17",
          "state": {
            "_model_module": "jupyter-leaflet",
            "_model_module_version": "^0.17",
            "_model_name": "LeafletFullScreenControlModel",
            "_view_count": null,
            "_view_module": "jupyter-leaflet",
            "_view_module_version": "^0.17",
            "_view_name": "LeafletFullScreenControlView",
            "options": [
              "position"
            ],
            "position": "topleft"
          }
        },
        "a4da02f9f73341c0857f2eeef601db9d": {
          "model_module": "jupyter-leaflet",
          "model_name": "LeafletMeasureControlModel",
          "model_module_version": "^0.17",
          "state": {
            "_custom_units": {},
            "_model_module": "jupyter-leaflet",
            "_model_module_version": "^0.17",
            "_model_name": "LeafletMeasureControlModel",
            "_view_count": null,
            "_view_module": "jupyter-leaflet",
            "_view_module_version": "^0.17",
            "_view_name": "LeafletMeasureControlView",
            "active_color": "orange",
            "capture_z_index": 10000,
            "completed_color": "#C8F2BE",
            "options": [
              "active_color",
              "capture_z_index",
              "completed_color",
              "popup_options",
              "position",
              "primary_area_unit",
              "primary_length_unit",
              "secondary_area_unit",
              "secondary_length_unit"
            ],
            "popup_options": {
              "className": "leaflet-measure-resultpopup",
              "autoPanPadding": [
                10,
                10
              ]
            },
            "position": "bottomleft",
            "primary_area_unit": "acres",
            "primary_length_unit": "kilometers",
            "secondary_area_unit": null,
            "secondary_length_unit": null
          }
        },
        "0b352f32d891403986d97c28a8abd561": {
          "model_module": "jupyter-leaflet",
          "model_name": "LeafletAttributionControlModel",
          "model_module_version": "^0.17",
          "state": {
            "_model_module": "jupyter-leaflet",
            "_model_module_version": "^0.17",
            "_model_name": "LeafletAttributionControlModel",
            "_view_count": null,
            "_view_module": "jupyter-leaflet",
            "_view_module_version": "^0.17",
            "_view_name": "LeafletAttributionControlView",
            "options": [
              "position",
              "prefix"
            ],
            "position": "bottomright",
            "prefix": "ipyleaflet"
          }
        },
        "a6777a45b8db4c1fa28e2e53a320fec4": {
          "model_module": "jupyter-leaflet",
          "model_name": "LeafletDrawControlModel",
          "model_module_version": "^0.17",
          "state": {
            "_model_module": "jupyter-leaflet",
            "_model_module_version": "^0.17",
            "_model_name": "LeafletDrawControlModel",
            "_view_count": null,
            "_view_module": "jupyter-leaflet",
            "_view_module_version": "^0.17",
            "_view_name": "LeafletDrawControlView",
            "circle": {
              "shapeOptions": {
                "color": "#3388ff"
              }
            },
            "circlemarker": {},
            "data": [],
            "edit": true,
            "marker": {
              "shapeOptions": {
                "color": "#3388ff"
              }
            },
            "options": [
              "position"
            ],
            "polygon": {
              "shapeOptions": {}
            },
            "polyline": {
              "shapeOptions": {}
            },
            "position": "topleft",
            "rectangle": {
              "shapeOptions": {
                "color": "#3388ff"
              }
            },
            "remove": true
          }
        },
        "b9ad75d98dc74c70a69c10adc76ee605": {
          "model_module": "jupyter-leaflet",
          "model_name": "LeafletWidgetControlModel",
          "model_module_version": "^0.17",
          "state": {
            "_model_module": "jupyter-leaflet",
            "_model_module_version": "^0.17",
            "_model_name": "LeafletWidgetControlModel",
            "_view_count": null,
            "_view_module": "jupyter-leaflet",
            "_view_module_version": "^0.17",
            "_view_name": "LeafletWidgetControlView",
            "max_height": null,
            "max_width": null,
            "min_height": null,
            "min_width": null,
            "options": [
              "position",
              "transparent_bg"
            ],
            "position": "topright",
            "transparent_bg": false,
            "widget": "IPY_MODEL_4d50d52e6b0b46cb9f1cc7c8e0e014ff"
          }
        },
        "36505ad67efa4b0ca20b5fcfaec043c3": {
          "model_module": "jupyter-leaflet",
          "model_name": "LeafletLayersControlModel",
          "model_module_version": "^0.17",
          "state": {
            "_model_module": "jupyter-leaflet",
            "_model_module_version": "^0.17",
            "_model_name": "LeafletLayersControlModel",
            "_view_count": null,
            "_view_module": "jupyter-leaflet",
            "_view_module_version": "^0.17",
            "_view_name": "LeafletLayersControlView",
            "options": [
              "position"
            ],
            "position": "topright"
          }
        },
        "d3d3d0f22d394fae8439e532b27a38b4": {
          "model_module": "jupyter-leaflet",
          "model_name": "LeafletMapStyleModel",
          "model_module_version": "^0.17",
          "state": {
            "_model_module": "jupyter-leaflet",
            "_model_module_version": "^0.17",
            "_model_name": "LeafletMapStyleModel",
            "_view_count": null,
            "_view_module": "@jupyter-widgets/base",
            "_view_module_version": "1.2.0",
            "_view_name": "StyleView",
            "cursor": "grab"
          }
        },
        "4c20d41c5e7e4be49b9a544446e3e4c2": {
          "model_module": "jupyter-leaflet",
          "model_name": "LeafletMapStyleModel",
          "model_module_version": "^0.17",
          "state": {
            "_model_module": "jupyter-leaflet",
            "_model_module_version": "^0.17",
            "_model_name": "LeafletMapStyleModel",
            "_view_count": null,
            "_view_module": "@jupyter-widgets/base",
            "_view_module_version": "1.2.0",
            "_view_name": "StyleView",
            "cursor": "move"
          }
        },
        "3a74fc85d8e4448e8b1f4f181f6294ca": {
          "model_module": "jupyter-leaflet",
          "model_name": "LeafletTileLayerModel",
          "model_module_version": "^0.17",
          "state": {
            "_model_module": "jupyter-leaflet",
            "_model_module_version": "^0.17",
            "_model_name": "LeafletTileLayerModel",
            "_view_count": null,
            "_view_module": "jupyter-leaflet",
            "_view_module_version": "^0.17",
            "_view_name": "LeafletTileLayerView",
            "attribution": "&copy; <a href=\"https://www.openstreetmap.org/copyright\">OpenStreetMap</a> contributors",
            "base": true,
            "bottom": true,
            "bounds": null,
            "detect_retina": false,
            "loading": false,
            "max_native_zoom": null,
            "max_zoom": 19,
            "min_native_zoom": null,
            "min_zoom": 1,
            "name": "OpenStreetMap.Mapnik",
            "no_wrap": false,
            "opacity": 1,
            "options": [
              "attribution",
              "bounds",
              "detect_retina",
              "max_native_zoom",
              "max_zoom",
              "min_native_zoom",
              "min_zoom",
              "no_wrap",
              "tile_size",
              "tms",
              "zoom_offset"
            ],
            "pane": "",
            "popup": null,
            "popup_max_height": null,
            "popup_max_width": 300,
            "popup_min_width": 50,
            "show_loading": false,
            "subitems": [],
            "tile_size": 256,
            "tms": false,
            "url": "https://tile.openstreetmap.org/{z}/{x}/{y}.png",
            "visible": true,
            "zoom_offset": 0
          }
        },
        "8e8b78b64a364b01b629a58e840bfa84": {
          "model_module": "jupyter-leaflet",
          "model_name": "LeafletTileLayerModel",
          "model_module_version": "^0.17",
          "state": {
            "_model_module": "jupyter-leaflet",
            "_model_module_version": "^0.17",
            "_model_name": "LeafletTileLayerModel",
            "_view_count": null,
            "_view_module": "jupyter-leaflet",
            "_view_module_version": "^0.17",
            "_view_name": "LeafletTileLayerView",
            "attribution": "Google Earth Engine",
            "base": false,
            "bottom": true,
            "bounds": null,
            "detect_retina": false,
            "loading": false,
            "max_native_zoom": null,
            "max_zoom": 24,
            "min_native_zoom": null,
            "min_zoom": 0,
            "name": "EVI2",
            "no_wrap": false,
            "opacity": 1,
            "options": [
              "attribution",
              "bounds",
              "detect_retina",
              "max_native_zoom",
              "max_zoom",
              "min_native_zoom",
              "min_zoom",
              "no_wrap",
              "tile_size",
              "tms",
              "zoom_offset"
            ],
            "pane": "",
            "popup": null,
            "popup_max_height": null,
            "popup_max_width": 300,
            "popup_min_width": 50,
            "show_loading": false,
            "subitems": [],
            "tile_size": 256,
            "tms": false,
            "url": "https://earthengine.googleapis.com/v1alpha/projects/earthengine-legacy/maps/1b352e21dd07f80c20471f850e1d87ce-96f74443b1ae293160c61c1db2ffe8de/tiles/{z}/{x}/{y}",
            "visible": true,
            "zoom_offset": 0
          }
        },
        "af387ab813c4446799f4c379beccf44a": {
          "model_module": "@jupyter-widgets/base",
          "model_name": "LayoutModel",
          "model_module_version": "1.2.0",
          "state": {
            "_model_module": "@jupyter-widgets/base",
            "_model_module_version": "1.2.0",
            "_model_name": "LayoutModel",
            "_view_count": null,
            "_view_module": "@jupyter-widgets/base",
            "_view_module_version": "1.2.0",
            "_view_name": "LayoutView",
            "align_content": null,
            "align_items": null,
            "align_self": null,
            "border": null,
            "bottom": null,
            "display": null,
            "flex": null,
            "flex_flow": null,
            "grid_area": null,
            "grid_auto_columns": null,
            "grid_auto_flow": null,
            "grid_auto_rows": null,
            "grid_column": null,
            "grid_gap": null,
            "grid_row": null,
            "grid_template_areas": null,
            "grid_template_columns": null,
            "grid_template_rows": null,
            "height": "600px",
            "justify_content": null,
            "justify_items": null,
            "left": null,
            "margin": null,
            "max_height": null,
            "max_width": null,
            "min_height": null,
            "min_width": null,
            "object_fit": null,
            "object_position": null,
            "order": null,
            "overflow": null,
            "overflow_x": null,
            "overflow_y": null,
            "padding": null,
            "right": null,
            "top": null,
            "visibility": null,
            "width": null
          }
        },
        "d50663b3b6b84f0286d340d46ea4ec7e": {
          "model_module": "jupyter-leaflet",
          "model_name": "LeafletMapStyleModel",
          "model_module_version": "^0.17",
          "state": {
            "_model_module": "jupyter-leaflet",
            "_model_module_version": "^0.17",
            "_model_name": "LeafletMapStyleModel",
            "_view_count": null,
            "_view_module": "@jupyter-widgets/base",
            "_view_module_version": "1.2.0",
            "_view_name": "StyleView",
            "cursor": "grab"
          }
        },
        "26a25cbc34c54b4aa85c56f4e6cd08a6": {
          "model_module": "@jupyter-widgets/controls",
          "model_name": "HBoxModel",
          "model_module_version": "1.5.0",
          "state": {
            "_dom_classes": [],
            "_model_module": "@jupyter-widgets/controls",
            "_model_module_version": "1.5.0",
            "_model_name": "HBoxModel",
            "_view_count": null,
            "_view_module": "@jupyter-widgets/controls",
            "_view_module_version": "1.5.0",
            "_view_name": "HBoxView",
            "box_style": "",
            "children": [
              "IPY_MODEL_fefc13c83e6e41028e9050f71b8a81a1"
            ],
            "layout": "IPY_MODEL_1f8081d7698640b4bd586304bb22d9d3"
          }
        },
        "4d50d52e6b0b46cb9f1cc7c8e0e014ff": {
          "model_module": "@jupyter-widgets/controls",
          "model_name": "VBoxModel",
          "model_module_version": "1.5.0",
          "state": {
            "_dom_classes": [],
            "_model_module": "@jupyter-widgets/controls",
            "_model_module_version": "1.5.0",
            "_model_name": "VBoxModel",
            "_view_count": null,
            "_view_module": "@jupyter-widgets/controls",
            "_view_module_version": "1.5.0",
            "_view_name": "VBoxView",
            "box_style": "",
            "children": [
              "IPY_MODEL_d494d95a43214758922109af9bb63be6"
            ],
            "layout": "IPY_MODEL_cf287dc6d4c0432bad940b7054cfe596"
          }
        },
        "fefc13c83e6e41028e9050f71b8a81a1": {
          "model_module": "@jupyter-widgets/controls",
          "model_name": "ToggleButtonModel",
          "model_module_version": "1.5.0",
          "state": {
            "_dom_classes": [],
            "_model_module": "@jupyter-widgets/controls",
            "_model_module_version": "1.5.0",
            "_model_name": "ToggleButtonModel",
            "_view_count": null,
            "_view_module": "@jupyter-widgets/controls",
            "_view_module_version": "1.5.0",
            "_view_name": "ToggleButtonView",
            "button_style": "",
            "description": "",
            "description_tooltip": null,
            "disabled": false,
            "icon": "globe",
            "layout": "IPY_MODEL_ce6f8b7eadd4460f96778bd421e3330d",
            "style": "IPY_MODEL_44b273e8b692431aadbed834e4e568fb",
            "tooltip": "Search location/data",
            "value": false
          }
        },
        "1f8081d7698640b4bd586304bb22d9d3": {
          "model_module": "@jupyter-widgets/base",
          "model_name": "LayoutModel",
          "model_module_version": "1.2.0",
          "state": {
            "_model_module": "@jupyter-widgets/base",
            "_model_module_version": "1.2.0",
            "_model_name": "LayoutModel",
            "_view_count": null,
            "_view_module": "@jupyter-widgets/base",
            "_view_module_version": "1.2.0",
            "_view_name": "LayoutView",
            "align_content": null,
            "align_items": null,
            "align_self": null,
            "border": null,
            "bottom": null,
            "display": null,
            "flex": null,
            "flex_flow": null,
            "grid_area": null,
            "grid_auto_columns": null,
            "grid_auto_flow": null,
            "grid_auto_rows": null,
            "grid_column": null,
            "grid_gap": null,
            "grid_row": null,
            "grid_template_areas": null,
            "grid_template_columns": null,
            "grid_template_rows": null,
            "height": null,
            "justify_content": null,
            "justify_items": null,
            "left": null,
            "margin": null,
            "max_height": null,
            "max_width": null,
            "min_height": null,
            "min_width": null,
            "object_fit": null,
            "object_position": null,
            "order": null,
            "overflow": null,
            "overflow_x": null,
            "overflow_y": null,
            "padding": null,
            "right": null,
            "top": null,
            "visibility": null,
            "width": null
          }
        },
        "d494d95a43214758922109af9bb63be6": {
          "model_module": "@jupyter-widgets/controls",
          "model_name": "ToggleButtonModel",
          "model_module_version": "1.5.0",
          "state": {
            "_dom_classes": [],
            "_model_module": "@jupyter-widgets/controls",
            "_model_module_version": "1.5.0",
            "_model_name": "ToggleButtonModel",
            "_view_count": null,
            "_view_module": "@jupyter-widgets/controls",
            "_view_module_version": "1.5.0",
            "_view_name": "ToggleButtonView",
            "button_style": "",
            "description": "",
            "description_tooltip": null,
            "disabled": false,
            "icon": "wrench",
            "layout": "IPY_MODEL_b5626677b6ed4169822f292f4d3e181b",
            "style": "IPY_MODEL_8e0117d4367b451396be97dc5cf82ba5",
            "tooltip": "Toolbar",
            "value": false
          }
        },
        "cf287dc6d4c0432bad940b7054cfe596": {
          "model_module": "@jupyter-widgets/base",
          "model_name": "LayoutModel",
          "model_module_version": "1.2.0",
          "state": {
            "_model_module": "@jupyter-widgets/base",
            "_model_module_version": "1.2.0",
            "_model_name": "LayoutModel",
            "_view_count": null,
            "_view_module": "@jupyter-widgets/base",
            "_view_module_version": "1.2.0",
            "_view_name": "LayoutView",
            "align_content": null,
            "align_items": null,
            "align_self": null,
            "border": null,
            "bottom": null,
            "display": null,
            "flex": null,
            "flex_flow": null,
            "grid_area": null,
            "grid_auto_columns": null,
            "grid_auto_flow": null,
            "grid_auto_rows": null,
            "grid_column": null,
            "grid_gap": null,
            "grid_row": null,
            "grid_template_areas": null,
            "grid_template_columns": null,
            "grid_template_rows": null,
            "height": null,
            "justify_content": null,
            "justify_items": null,
            "left": null,
            "margin": null,
            "max_height": null,
            "max_width": null,
            "min_height": null,
            "min_width": null,
            "object_fit": null,
            "object_position": null,
            "order": null,
            "overflow": null,
            "overflow_x": null,
            "overflow_y": null,
            "padding": null,
            "right": null,
            "top": null,
            "visibility": null,
            "width": null
          }
        },
        "ce6f8b7eadd4460f96778bd421e3330d": {
          "model_module": "@jupyter-widgets/base",
          "model_name": "LayoutModel",
          "model_module_version": "1.2.0",
          "state": {
            "_model_module": "@jupyter-widgets/base",
            "_model_module_version": "1.2.0",
            "_model_name": "LayoutModel",
            "_view_count": null,
            "_view_module": "@jupyter-widgets/base",
            "_view_module_version": "1.2.0",
            "_view_name": "LayoutView",
            "align_content": null,
            "align_items": null,
            "align_self": null,
            "border": null,
            "bottom": null,
            "display": null,
            "flex": null,
            "flex_flow": null,
            "grid_area": null,
            "grid_auto_columns": null,
            "grid_auto_flow": null,
            "grid_auto_rows": null,
            "grid_column": null,
            "grid_gap": null,
            "grid_row": null,
            "grid_template_areas": null,
            "grid_template_columns": null,
            "grid_template_rows": null,
            "height": "28px",
            "justify_content": null,
            "justify_items": null,
            "left": null,
            "margin": null,
            "max_height": null,
            "max_width": null,
            "min_height": null,
            "min_width": null,
            "object_fit": null,
            "object_position": null,
            "order": null,
            "overflow": null,
            "overflow_x": null,
            "overflow_y": null,
            "padding": "0px 0px 0px 4px",
            "right": null,
            "top": null,
            "visibility": null,
            "width": "28px"
          }
        },
        "44b273e8b692431aadbed834e4e568fb": {
          "model_module": "@jupyter-widgets/controls",
          "model_name": "DescriptionStyleModel",
          "model_module_version": "1.5.0",
          "state": {
            "_model_module": "@jupyter-widgets/controls",
            "_model_module_version": "1.5.0",
            "_model_name": "DescriptionStyleModel",
            "_view_count": null,
            "_view_module": "@jupyter-widgets/base",
            "_view_module_version": "1.2.0",
            "_view_name": "StyleView",
            "description_width": ""
          }
        },
        "b5626677b6ed4169822f292f4d3e181b": {
          "model_module": "@jupyter-widgets/base",
          "model_name": "LayoutModel",
          "model_module_version": "1.2.0",
          "state": {
            "_model_module": "@jupyter-widgets/base",
            "_model_module_version": "1.2.0",
            "_model_name": "LayoutModel",
            "_view_count": null,
            "_view_module": "@jupyter-widgets/base",
            "_view_module_version": "1.2.0",
            "_view_name": "LayoutView",
            "align_content": null,
            "align_items": null,
            "align_self": null,
            "border": null,
            "bottom": null,
            "display": null,
            "flex": null,
            "flex_flow": null,
            "grid_area": null,
            "grid_auto_columns": null,
            "grid_auto_flow": null,
            "grid_auto_rows": null,
            "grid_column": null,
            "grid_gap": null,
            "grid_row": null,
            "grid_template_areas": null,
            "grid_template_columns": null,
            "grid_template_rows": null,
            "height": "28px",
            "justify_content": null,
            "justify_items": null,
            "left": null,
            "margin": null,
            "max_height": null,
            "max_width": null,
            "min_height": null,
            "min_width": null,
            "object_fit": null,
            "object_position": null,
            "order": null,
            "overflow": null,
            "overflow_x": null,
            "overflow_y": null,
            "padding": "0px 0px 0px 4px",
            "right": null,
            "top": null,
            "visibility": null,
            "width": "28px"
          }
        },
        "8e0117d4367b451396be97dc5cf82ba5": {
          "model_module": "@jupyter-widgets/controls",
          "model_name": "DescriptionStyleModel",
          "model_module_version": "1.5.0",
          "state": {
            "_model_module": "@jupyter-widgets/controls",
            "_model_module_version": "1.5.0",
            "_model_name": "DescriptionStyleModel",
            "_view_count": null,
            "_view_module": "@jupyter-widgets/base",
            "_view_module_version": "1.2.0",
            "_view_name": "StyleView",
            "description_width": ""
          }
        }
      }
    }
  },
  "cells": [
    {
      "cell_type": "markdown",
      "metadata": {
        "id": "view-in-github",
        "colab_type": "text"
      },
      "source": [
        "<a href=\"https://colab.research.google.com/github/caomy7/PLSP/blob/main/02_GEE_Steps.ipynb\" target=\"_parent\"><img src=\"https://colab.research.google.com/assets/colab-badge.svg\" alt=\"Open In Colab\"/></a>"
      ]
    },
    {
      "cell_type": "code",
      "execution_count": 51,
      "metadata": {
        "id": "K8_I8GnkHRm9",
        "colab": {
          "base_uri": "https://localhost:8080/"
        },
        "outputId": "549ac52c-0950-4520-fe68-6b111736d05d"
      },
      "outputs": [
        {
          "output_type": "stream",
          "name": "stdout",
          "text": [
            "To authorize access needed by Earth Engine, open the following URL in a web browser and follow the instructions. If the web browser does not start automatically, please manually browse the URL below.\n",
            "\n",
            "    https://code.earthengine.google.com/client-auth?scopes=https%3A//www.googleapis.com/auth/earthengine%20https%3A//www.googleapis.com/auth/devstorage.full_control&request_id=SSc2Twukf-y3RBp5l0hxqwydF21rIh-G0sbAP9YxIhM&tc=8sliQv8h3jFEWsuB0s0-BJv-4XDTFHuKDag2frx61rs&cc=wL3fz612GsMZrLbJmS4zC-_b-OlHWeb_qdEd3OwG07A\n",
            "\n",
            "The authorization workflow will generate a code, which you should paste in the box below.\n",
            "Enter verification code: 4/1AWgavdf_xgSTkNP2q6-tUHx_wZyKceb_K6Uu02Yx60IwyL9bi814jS2Ma0E\n",
            "\n",
            "Successfully saved authorization token.\n"
          ]
        }
      ],
      "source": [
        "import ee\n",
        "ee.Authenticate()\n",
        "ee.Initialize()"
      ]
    },
    {
      "cell_type": "code",
      "source": [
        "#@title\n",
        "!pip install geemap"
      ],
      "metadata": {
        "colab": {
          "base_uri": "https://localhost:8080/"
        },
        "id": "IaOu-zcnHsyD",
        "outputId": "b0ae17af-116c-42cc-c5af-965bb6ff4fda"
      },
      "execution_count": 52,
      "outputs": [
        {
          "output_type": "stream",
          "name": "stdout",
          "text": [
            "Looking in indexes: https://pypi.org/simple, https://us-python.pkg.dev/colab-wheels/public/simple/\n",
            "Requirement already satisfied: geemap in /usr/local/lib/python3.8/dist-packages (0.19.1)\n",
            "Requirement already satisfied: ipytree in /usr/local/lib/python3.8/dist-packages (from geemap) (0.2.2)\n",
            "Requirement already satisfied: geocoder in /usr/local/lib/python3.8/dist-packages (from geemap) (1.38.1)\n",
            "Requirement already satisfied: pyshp>=2.1.3 in /usr/local/lib/python3.8/dist-packages (from geemap) (2.3.1)\n",
            "Requirement already satisfied: whiteboxgui>=0.6.0 in /usr/local/lib/python3.8/dist-packages (from geemap) (2.2.0)\n",
            "Requirement already satisfied: pillow in /usr/local/lib/python3.8/dist-packages (from geemap) (7.1.2)\n",
            "Requirement already satisfied: folium>=0.11.0 in /usr/local/lib/python3.8/dist-packages (from geemap) (0.12.1.post1)\n",
            "Requirement already satisfied: numpy in /usr/local/lib/python3.8/dist-packages (from geemap) (1.21.6)\n",
            "Requirement already satisfied: pandas in /usr/local/lib/python3.8/dist-packages (from geemap) (1.3.5)\n",
            "Requirement already satisfied: ffmpeg-python in /usr/local/lib/python3.8/dist-packages (from geemap) (0.2.0)\n",
            "Requirement already satisfied: ipyfilechooser>=0.6.0 in /usr/local/lib/python3.8/dist-packages (from geemap) (0.6.0)\n",
            "Requirement already satisfied: scooby in /usr/local/lib/python3.8/dist-packages (from geemap) (0.7.0)\n",
            "Requirement already satisfied: xyzservices in /usr/local/lib/python3.8/dist-packages (from geemap) (2022.9.0)\n",
            "Requirement already satisfied: eerepr>=0.0.4 in /usr/local/lib/python3.8/dist-packages (from geemap) (0.0.4)\n",
            "Requirement already satisfied: ee-extra>=0.0.10 in /usr/local/lib/python3.8/dist-packages (from geemap) (0.0.14)\n",
            "Requirement already satisfied: pycrs in /usr/local/lib/python3.8/dist-packages (from geemap) (1.0.2)\n",
            "Requirement already satisfied: gdown in /usr/local/lib/python3.8/dist-packages (from geemap) (4.4.0)\n",
            "Requirement already satisfied: ipyevents in /usr/local/lib/python3.8/dist-packages (from geemap) (2.0.1)\n",
            "Requirement already satisfied: python-box in /usr/local/lib/python3.8/dist-packages (from geemap) (6.1.0)\n",
            "Requirement already satisfied: geojson in /usr/local/lib/python3.8/dist-packages (from geemap) (2.5.0)\n",
            "Requirement already satisfied: earthengine-api>=0.1.304 in /usr/local/lib/python3.8/dist-packages (from geemap) (0.1.335)\n",
            "Requirement already satisfied: colour in /usr/local/lib/python3.8/dist-packages (from geemap) (0.1.5)\n",
            "Requirement already satisfied: geeadd>=0.5.1 in /usr/local/lib/python3.8/dist-packages (from geemap) (0.5.6)\n",
            "Requirement already satisfied: bqplot in /usr/local/lib/python3.8/dist-packages (from geemap) (0.12.36)\n",
            "Requirement already satisfied: sankee>=0.1.0 in /usr/local/lib/python3.8/dist-packages (from geemap) (0.2.1)\n",
            "Requirement already satisfied: ipyleaflet>=0.17.0 in /usr/local/lib/python3.8/dist-packages (from geemap) (0.17.2)\n",
            "Requirement already satisfied: matplotlib in /usr/local/lib/python3.8/dist-packages (from geemap) (3.2.2)\n",
            "Requirement already satisfied: google-api-python-client>=1.12.1 in /usr/local/lib/python3.8/dist-packages (from earthengine-api>=0.1.304->geemap) (1.12.11)\n",
            "Requirement already satisfied: google-auth>=1.4.1 in /usr/local/lib/python3.8/dist-packages (from earthengine-api>=0.1.304->geemap) (2.15.0)\n",
            "Requirement already satisfied: httplib2<1dev,>=0.9.2 in /usr/local/lib/python3.8/dist-packages (from earthengine-api>=0.1.304->geemap) (0.17.4)\n",
            "Requirement already satisfied: google-cloud-storage in /usr/local/lib/python3.8/dist-packages (from earthengine-api>=0.1.304->geemap) (2.5.0)\n",
            "Requirement already satisfied: requests in /usr/local/lib/python3.8/dist-packages (from earthengine-api>=0.1.304->geemap) (2.23.0)\n",
            "Requirement already satisfied: six in /usr/local/lib/python3.8/dist-packages (from earthengine-api>=0.1.304->geemap) (1.15.0)\n",
            "Requirement already satisfied: future in /usr/local/lib/python3.8/dist-packages (from earthengine-api>=0.1.304->geemap) (0.16.0)\n",
            "Requirement already satisfied: google-auth-httplib2>=0.0.3 in /usr/local/lib/python3.8/dist-packages (from earthengine-api>=0.1.304->geemap) (0.0.4)\n",
            "Requirement already satisfied: branca>=0.3.0 in /usr/local/lib/python3.8/dist-packages (from folium>=0.11.0->geemap) (0.6.0)\n",
            "Requirement already satisfied: jinja2>=2.9 in /usr/local/lib/python3.8/dist-packages (from folium>=0.11.0->geemap) (2.11.3)\n",
            "Requirement already satisfied: beautifulsoup4>=4.9.0 in /usr/local/lib/python3.8/dist-packages (from geeadd>=0.5.1->geemap) (4.11.1)\n",
            "Requirement already satisfied: logzero>=1.5.0 in /usr/local/lib/python3.8/dist-packages (from geeadd>=0.5.1->geemap) (1.7.0)\n",
            "Requirement already satisfied: soupsieve>1.2 in /usr/local/lib/python3.8/dist-packages (from beautifulsoup4>=4.9.0->geeadd>=0.5.1->geemap) (2.3.2.post1)\n",
            "Requirement already satisfied: google-api-core<3dev,>=1.21.0 in /usr/local/lib/python3.8/dist-packages (from google-api-python-client>=1.12.1->earthengine-api>=0.1.304->geemap) (2.8.2)\n",
            "Requirement already satisfied: uritemplate<4dev,>=3.0.0 in /usr/local/lib/python3.8/dist-packages (from google-api-python-client>=1.12.1->earthengine-api>=0.1.304->geemap) (3.0.1)\n",
            "Requirement already satisfied: protobuf<5.0.0dev,>=3.15.0 in /usr/local/lib/python3.8/dist-packages (from google-api-core<3dev,>=1.21.0->google-api-python-client>=1.12.1->earthengine-api>=0.1.304->geemap) (3.19.6)\n",
            "Requirement already satisfied: googleapis-common-protos<2.0dev,>=1.56.2 in /usr/local/lib/python3.8/dist-packages (from google-api-core<3dev,>=1.21.0->google-api-python-client>=1.12.1->earthengine-api>=0.1.304->geemap) (1.57.0)\n",
            "Requirement already satisfied: rsa<5,>=3.1.4 in /usr/local/lib/python3.8/dist-packages (from google-auth>=1.4.1->earthengine-api>=0.1.304->geemap) (4.9)\n",
            "Requirement already satisfied: pyasn1-modules>=0.2.1 in /usr/local/lib/python3.8/dist-packages (from google-auth>=1.4.1->earthengine-api>=0.1.304->geemap) (0.2.8)\n",
            "Requirement already satisfied: cachetools<6.0,>=2.0.0 in /usr/local/lib/python3.8/dist-packages (from google-auth>=1.4.1->earthengine-api>=0.1.304->geemap) (5.2.0)\n",
            "Requirement already satisfied: ipywidgets in /usr/local/lib/python3.8/dist-packages (from ipyfilechooser>=0.6.0->geemap) (7.7.1)\n",
            "Requirement already satisfied: traittypes<3,>=0.2.1 in /usr/local/lib/python3.8/dist-packages (from ipyleaflet>=0.17.0->geemap) (0.2.1)\n",
            "Requirement already satisfied: traitlets>=4.3.1 in /usr/local/lib/python3.8/dist-packages (from ipywidgets->ipyfilechooser>=0.6.0->geemap) (5.7.1)\n",
            "Requirement already satisfied: jupyterlab-widgets>=1.0.0 in /usr/local/lib/python3.8/dist-packages (from ipywidgets->ipyfilechooser>=0.6.0->geemap) (3.0.4)\n",
            "Requirement already satisfied: ipykernel>=4.5.1 in /usr/local/lib/python3.8/dist-packages (from ipywidgets->ipyfilechooser>=0.6.0->geemap) (5.3.4)\n",
            "Requirement already satisfied: ipython-genutils~=0.2.0 in /usr/local/lib/python3.8/dist-packages (from ipywidgets->ipyfilechooser>=0.6.0->geemap) (0.2.0)\n",
            "Requirement already satisfied: widgetsnbextension~=3.6.0 in /usr/local/lib/python3.8/dist-packages (from ipywidgets->ipyfilechooser>=0.6.0->geemap) (3.6.1)\n",
            "Requirement already satisfied: ipython>=4.0.0 in /usr/local/lib/python3.8/dist-packages (from ipywidgets->ipyfilechooser>=0.6.0->geemap) (7.9.0)\n",
            "Requirement already satisfied: jupyter-client in /usr/local/lib/python3.8/dist-packages (from ipykernel>=4.5.1->ipywidgets->ipyfilechooser>=0.6.0->geemap) (6.1.12)\n",
            "Requirement already satisfied: tornado>=4.2 in /usr/local/lib/python3.8/dist-packages (from ipykernel>=4.5.1->ipywidgets->ipyfilechooser>=0.6.0->geemap) (6.0.4)\n",
            "Requirement already satisfied: pexpect in /usr/local/lib/python3.8/dist-packages (from ipython>=4.0.0->ipywidgets->ipyfilechooser>=0.6.0->geemap) (4.8.0)\n",
            "Requirement already satisfied: pickleshare in /usr/local/lib/python3.8/dist-packages (from ipython>=4.0.0->ipywidgets->ipyfilechooser>=0.6.0->geemap) (0.7.5)\n",
            "Requirement already satisfied: decorator in /usr/local/lib/python3.8/dist-packages (from ipython>=4.0.0->ipywidgets->ipyfilechooser>=0.6.0->geemap) (4.4.2)\n",
            "Requirement already satisfied: jedi>=0.10 in /usr/local/lib/python3.8/dist-packages (from ipython>=4.0.0->ipywidgets->ipyfilechooser>=0.6.0->geemap) (0.18.2)\n",
            "Requirement already satisfied: setuptools>=18.5 in /usr/local/lib/python3.8/dist-packages (from ipython>=4.0.0->ipywidgets->ipyfilechooser>=0.6.0->geemap) (57.4.0)\n",
            "Requirement already satisfied: prompt-toolkit<2.1.0,>=2.0.0 in /usr/local/lib/python3.8/dist-packages (from ipython>=4.0.0->ipywidgets->ipyfilechooser>=0.6.0->geemap) (2.0.10)\n",
            "Requirement already satisfied: pygments in /usr/local/lib/python3.8/dist-packages (from ipython>=4.0.0->ipywidgets->ipyfilechooser>=0.6.0->geemap) (2.6.1)\n",
            "Requirement already satisfied: backcall in /usr/local/lib/python3.8/dist-packages (from ipython>=4.0.0->ipywidgets->ipyfilechooser>=0.6.0->geemap) (0.2.0)\n",
            "Requirement already satisfied: parso<0.9.0,>=0.8.0 in /usr/local/lib/python3.8/dist-packages (from jedi>=0.10->ipython>=4.0.0->ipywidgets->ipyfilechooser>=0.6.0->geemap) (0.8.3)\n",
            "Requirement already satisfied: MarkupSafe>=0.23 in /usr/local/lib/python3.8/dist-packages (from jinja2>=2.9->folium>=0.11.0->geemap) (2.0.1)\n",
            "Requirement already satisfied: wcwidth in /usr/local/lib/python3.8/dist-packages (from prompt-toolkit<2.1.0,>=2.0.0->ipython>=4.0.0->ipywidgets->ipyfilechooser>=0.6.0->geemap) (0.2.5)\n",
            "Requirement already satisfied: pyasn1<0.5.0,>=0.4.6 in /usr/local/lib/python3.8/dist-packages (from pyasn1-modules>=0.2.1->google-auth>=1.4.1->earthengine-api>=0.1.304->geemap) (0.4.8)\n",
            "Requirement already satisfied: certifi>=2017.4.17 in /usr/local/lib/python3.8/dist-packages (from requests->earthengine-api>=0.1.304->geemap) (2022.12.7)\n",
            "Requirement already satisfied: chardet<4,>=3.0.2 in /usr/local/lib/python3.8/dist-packages (from requests->earthengine-api>=0.1.304->geemap) (3.0.4)\n",
            "Requirement already satisfied: urllib3!=1.25.0,!=1.25.1,<1.26,>=1.21.1 in /usr/local/lib/python3.8/dist-packages (from requests->earthengine-api>=0.1.304->geemap) (1.24.3)\n",
            "Requirement already satisfied: idna<3,>=2.5 in /usr/local/lib/python3.8/dist-packages (from requests->earthengine-api>=0.1.304->geemap) (2.10)\n",
            "Requirement already satisfied: plotly>=5.2.2 in /usr/local/lib/python3.8/dist-packages (from sankee>=0.1.0->geemap) (5.5.0)\n",
            "Requirement already satisfied: tenacity>=6.2.0 in /usr/local/lib/python3.8/dist-packages (from plotly>=5.2.2->sankee>=0.1.0->geemap) (8.1.0)\n",
            "Requirement already satisfied: whitebox in /usr/local/lib/python3.8/dist-packages (from whiteboxgui>=0.6.0->geemap) (2.2.0)\n",
            "Requirement already satisfied: notebook>=4.4.1 in /usr/local/lib/python3.8/dist-packages (from widgetsnbextension~=3.6.0->ipywidgets->ipyfilechooser>=0.6.0->geemap) (5.7.16)\n",
            "Requirement already satisfied: nbformat in /usr/local/lib/python3.8/dist-packages (from notebook>=4.4.1->widgetsnbextension~=3.6.0->ipywidgets->ipyfilechooser>=0.6.0->geemap) (5.7.0)\n",
            "Requirement already satisfied: terminado>=0.8.1 in /usr/local/lib/python3.8/dist-packages (from notebook>=4.4.1->widgetsnbextension~=3.6.0->ipywidgets->ipyfilechooser>=0.6.0->geemap) (0.13.3)\n",
            "Requirement already satisfied: prometheus-client in /usr/local/lib/python3.8/dist-packages (from notebook>=4.4.1->widgetsnbextension~=3.6.0->ipywidgets->ipyfilechooser>=0.6.0->geemap) (0.15.0)\n",
            "Requirement already satisfied: jupyter-core>=4.4.0 in /usr/local/lib/python3.8/dist-packages (from notebook>=4.4.1->widgetsnbextension~=3.6.0->ipywidgets->ipyfilechooser>=0.6.0->geemap) (5.1.0)\n",
            "Requirement already satisfied: nbconvert<6.0 in /usr/local/lib/python3.8/dist-packages (from notebook>=4.4.1->widgetsnbextension~=3.6.0->ipywidgets->ipyfilechooser>=0.6.0->geemap) (5.6.1)\n",
            "Requirement already satisfied: Send2Trash in /usr/local/lib/python3.8/dist-packages (from notebook>=4.4.1->widgetsnbextension~=3.6.0->ipywidgets->ipyfilechooser>=0.6.0->geemap) (1.8.0)\n",
            "Requirement already satisfied: pyzmq>=17 in /usr/local/lib/python3.8/dist-packages (from notebook>=4.4.1->widgetsnbextension~=3.6.0->ipywidgets->ipyfilechooser>=0.6.0->geemap) (23.2.1)\n",
            "Requirement already satisfied: python-dateutil>=2.1 in /usr/local/lib/python3.8/dist-packages (from jupyter-client->ipykernel>=4.5.1->ipywidgets->ipyfilechooser>=0.6.0->geemap) (2.8.2)\n",
            "Requirement already satisfied: platformdirs>=2.5 in /usr/local/lib/python3.8/dist-packages (from jupyter-core>=4.4.0->notebook>=4.4.1->widgetsnbextension~=3.6.0->ipywidgets->ipyfilechooser>=0.6.0->geemap) (2.6.0)\n",
            "Requirement already satisfied: mistune<2,>=0.8.1 in /usr/local/lib/python3.8/dist-packages (from nbconvert<6.0->notebook>=4.4.1->widgetsnbextension~=3.6.0->ipywidgets->ipyfilechooser>=0.6.0->geemap) (0.8.4)\n",
            "Requirement already satisfied: bleach in /usr/local/lib/python3.8/dist-packages (from nbconvert<6.0->notebook>=4.4.1->widgetsnbextension~=3.6.0->ipywidgets->ipyfilechooser>=0.6.0->geemap) (5.0.1)\n",
            "Requirement already satisfied: entrypoints>=0.2.2 in /usr/local/lib/python3.8/dist-packages (from nbconvert<6.0->notebook>=4.4.1->widgetsnbextension~=3.6.0->ipywidgets->ipyfilechooser>=0.6.0->geemap) (0.4)\n",
            "Requirement already satisfied: testpath in /usr/local/lib/python3.8/dist-packages (from nbconvert<6.0->notebook>=4.4.1->widgetsnbextension~=3.6.0->ipywidgets->ipyfilechooser>=0.6.0->geemap) (0.6.0)\n",
            "Requirement already satisfied: defusedxml in /usr/local/lib/python3.8/dist-packages (from nbconvert<6.0->notebook>=4.4.1->widgetsnbextension~=3.6.0->ipywidgets->ipyfilechooser>=0.6.0->geemap) (0.7.1)\n",
            "Requirement already satisfied: pandocfilters>=1.4.1 in /usr/local/lib/python3.8/dist-packages (from nbconvert<6.0->notebook>=4.4.1->widgetsnbextension~=3.6.0->ipywidgets->ipyfilechooser>=0.6.0->geemap) (1.5.0)\n",
            "Requirement already satisfied: fastjsonschema in /usr/local/lib/python3.8/dist-packages (from nbformat->notebook>=4.4.1->widgetsnbextension~=3.6.0->ipywidgets->ipyfilechooser>=0.6.0->geemap) (2.16.2)\n",
            "Requirement already satisfied: jsonschema>=2.6 in /usr/local/lib/python3.8/dist-packages (from nbformat->notebook>=4.4.1->widgetsnbextension~=3.6.0->ipywidgets->ipyfilechooser>=0.6.0->geemap) (4.3.3)\n",
            "Requirement already satisfied: attrs>=17.4.0 in /usr/local/lib/python3.8/dist-packages (from jsonschema>=2.6->nbformat->notebook>=4.4.1->widgetsnbextension~=3.6.0->ipywidgets->ipyfilechooser>=0.6.0->geemap) (22.1.0)\n",
            "Requirement already satisfied: pyrsistent!=0.17.0,!=0.17.1,!=0.17.2,>=0.14.0 in /usr/local/lib/python3.8/dist-packages (from jsonschema>=2.6->nbformat->notebook>=4.4.1->widgetsnbextension~=3.6.0->ipywidgets->ipyfilechooser>=0.6.0->geemap) (0.19.2)\n",
            "Requirement already satisfied: importlib-resources>=1.4.0 in /usr/local/lib/python3.8/dist-packages (from jsonschema>=2.6->nbformat->notebook>=4.4.1->widgetsnbextension~=3.6.0->ipywidgets->ipyfilechooser>=0.6.0->geemap) (5.10.1)\n",
            "Requirement already satisfied: zipp>=3.1.0 in /usr/local/lib/python3.8/dist-packages (from importlib-resources>=1.4.0->jsonschema>=2.6->nbformat->notebook>=4.4.1->widgetsnbextension~=3.6.0->ipywidgets->ipyfilechooser>=0.6.0->geemap) (3.11.0)\n",
            "Requirement already satisfied: ptyprocess in /usr/local/lib/python3.8/dist-packages (from terminado>=0.8.1->notebook>=4.4.1->widgetsnbextension~=3.6.0->ipywidgets->ipyfilechooser>=0.6.0->geemap) (0.7.0)\n",
            "Requirement already satisfied: webencodings in /usr/local/lib/python3.8/dist-packages (from bleach->nbconvert<6.0->notebook>=4.4.1->widgetsnbextension~=3.6.0->ipywidgets->ipyfilechooser>=0.6.0->geemap) (0.5.1)\n",
            "Requirement already satisfied: pytz>=2017.3 in /usr/local/lib/python3.8/dist-packages (from pandas->geemap) (2022.6)\n",
            "Requirement already satisfied: tqdm in /usr/local/lib/python3.8/dist-packages (from gdown->geemap) (4.64.1)\n",
            "Requirement already satisfied: filelock in /usr/local/lib/python3.8/dist-packages (from gdown->geemap) (3.8.2)\n",
            "Requirement already satisfied: ratelim in /usr/local/lib/python3.8/dist-packages (from geocoder->geemap) (0.1.6)\n",
            "Requirement already satisfied: click in /usr/local/lib/python3.8/dist-packages (from geocoder->geemap) (7.1.2)\n",
            "Requirement already satisfied: google-cloud-core<3.0dev,>=2.3.0 in /usr/local/lib/python3.8/dist-packages (from google-cloud-storage->earthengine-api>=0.1.304->geemap) (2.3.2)\n",
            "Requirement already satisfied: google-resumable-media>=2.3.2 in /usr/local/lib/python3.8/dist-packages (from google-cloud-storage->earthengine-api>=0.1.304->geemap) (2.4.0)\n",
            "Requirement already satisfied: google-crc32c<2.0dev,>=1.0 in /usr/local/lib/python3.8/dist-packages (from google-resumable-media>=2.3.2->google-cloud-storage->earthengine-api>=0.1.304->geemap) (1.5.0)\n",
            "Requirement already satisfied: kiwisolver>=1.0.1 in /usr/local/lib/python3.8/dist-packages (from matplotlib->geemap) (1.4.4)\n",
            "Requirement already satisfied: cycler>=0.10 in /usr/local/lib/python3.8/dist-packages (from matplotlib->geemap) (0.11.0)\n",
            "Requirement already satisfied: pyparsing!=2.0.4,!=2.1.2,!=2.1.6,>=2.0.1 in /usr/local/lib/python3.8/dist-packages (from matplotlib->geemap) (3.0.9)\n",
            "Requirement already satisfied: PySocks!=1.5.7,>=1.5.6 in /usr/local/lib/python3.8/dist-packages (from requests->earthengine-api>=0.1.304->geemap) (1.7.1)\n"
          ]
        }
      ]
    },
    {
      "cell_type": "markdown",
      "source": [
        "# **加载Sentinel2数据，并除云**"
      ],
      "metadata": {
        "id": "8jlZGIRBJXZ4"
      }
    },
    {
      "cell_type": "code",
      "source": [
        "import ee\n",
        "import geemap\n",
        "# import oeel\n",
        "\n",
        "Map = geemap.Map()\n",
        "# Map\n",
        "\n",
        "vegIndex = 'EVI2' \n",
        "th = 0.2 \n",
        "threshMin = 0.1\n",
        "scale = 50\n",
        "\n",
        "year1 = \"2020\" \n",
        "lag = 20 \n",
        "startDate = year1+'-01-01'\n",
        "endDate = year1+'-12-31'\n",
        "\n",
        "print(startDate,endDate)\n",
        "\n",
        "\n",
        "geom =ee.Geometry.Point([17.07398, 67.7578]);\n",
        "point = geom \n",
        "roi = point.buffer(100000).bounds() \n",
        "\n",
        "# roi = ee.Geometry.Polygon([[-97.72,31.61],[-82.85,31.61],[-82.85,37.67],[-97.72,37.61],[-97.72,31.61]])\n",
        "\n",
        "\n",
        "\n",
        "CLOUD_FILTER = 60\n",
        "CLD_PRB_THRESH = 50\n",
        "NIR_DRK_THRESH = 0.15\n",
        "CLD_PRJ_DIST = 1\n",
        "\n",
        "\n",
        "dataset = ee.ImageCollection(\"COPERNICUS/S2_SR\").filter(ee.Filter.date(startDate, endDate)).filterBounds(roi)\n",
        "# dataset = ee.ImageCollection(\"COPERNICUS/S2_SR\")\n",
        "size = dataset.size()\n",
        "print(size.getInfo())\n",
        "\n",
        "def maskS2clouds(image):\n",
        "  qa = image.select('QA60')\n",
        "  cloudBitMask = 1 << 10;\n",
        "  cirrusBitMask = 1 << 11;\n",
        "  mask = qa.bitwiseAnd(cloudBitMask).eq(0).And(qa.bitwiseAnd(cirrusBitMask).eq(0))\n",
        "\n",
        "  return image.updateMask(mask).select(\"B.*\").copyProperties(image,[\"system:time_start\"])\n",
        "\n",
        "\n",
        "filtered = dataset.map(maskS2clouds)\n",
        "\n",
        "rgbVis = {\n",
        "  \"bands\": ['B11', 'B8', 'B3'],\n",
        "  \"min\": 0,\n",
        "  \"max\": 3000\n",
        "};\n",
        "\n",
        "Map.addLayer(filtered,rgbVis,\"sentinel_cloudfree\")\n",
        "Map\n",
        "Map.addLayerControl()\n",
        "Map"
      ],
      "metadata": {
        "colab": {
          "base_uri": "https://localhost:8080/",
          "height": 52,
          "referenced_widgets": [
            "4f23b9aea3bd4191a9fbeb2fc668c566",
            "3c3d3d94f061411b97d1e7117654d096",
            "bf44c482b9b041f8a98c0fe37a632c85",
            "4d177cec750245d88d3bf1e45c469a86",
            "d7cd2b2ba057483e8380fa81160863dc",
            "0c13da759e64489f9aed27714d7b57f9",
            "65454a5d62fa4e1a9f0704f424979fb7",
            "7c84ffcc45be4b2a981a29c4db47be04",
            "a8a82107868449bc853de946cebaa983",
            "326d337d3b3c42d1b7de17b455babd77",
            "f544af9b33fb470ca78b6f771141dbdf",
            "1bde785fcd5c4da68b021f0fc2fd933c",
            "4f41b050bb514674990e76fd160d8805",
            "a005e9a4c0054e23b8fe09145a9c04be",
            "146a1b9818fd4a19bc63b724646d9656",
            "771ba6542509449cb81992c258280da7",
            "f81aa66c96d1449f8ff2253d8d2b2a37",
            "4de7c8070d474e6aa551adde92631db5",
            "6ad3c4c77aa04bf79d8d72c3187e28ff",
            "b537a1da1a1b43609e3116bb2a148ca7",
            "75fc3b3012cb46da8dab914c6d92bc6b",
            "a7eaac898dd84b528b1e4244ae7ddc98",
            "138086acd48f44af962262a2930234fe",
            "61541b0e35934ae992fd2a1e318e8320",
            "0bdf7b6584024a55bf5dcb30464869fe",
            "0d8131498f9e406391204de710889f1a",
            "cfc0be49721a41b0b54275d70adc678e"
          ]
        },
        "id": "qXXqQSl0IafM",
        "outputId": "5730fe07-3fed-400f-fd4d-de8f20567771"
      },
      "execution_count": 75,
      "outputs": [
        {
          "output_type": "stream",
          "name": "stdout",
          "text": [
            "2020-01-01 2020-12-31\n",
            "2502\n"
          ]
        },
        {
          "output_type": "display_data",
          "data": {
            "text/plain": [
              "Map(center=[20, 0], controls=(WidgetControl(options=['position', 'transparent_bg'], widget=HBox(children=(Togg…"
            ],
            "application/vnd.jupyter.widget-view+json": {
              "version_major": 2,
              "version_minor": 0,
              "model_id": "4f23b9aea3bd4191a9fbeb2fc668c566"
            }
          },
          "metadata": {
            "application/vnd.jupyter.widget-view+json": {
              "colab": {
                "custom_widget_manager": {
                  "url": "https://ssl.gstatic.com/colaboratory-static/widgets/colab-cdn-widget-manager/b3e629b1971e1542/manager.min.js"
                }
              }
            }
          }
        }
      ]
    },
    {
      "cell_type": "markdown",
      "source": [
        "# **显示EVI2数据**"
      ],
      "metadata": {
        "id": "QDEwud8kKFxj"
      }
    },
    {
      "cell_type": "code",
      "source": [
        "\n",
        "def EVI2(image):\n",
        "  return image.expression(  \n",
        "    '2.5*(NIR-RED) / (NIR+2.4*RED+1)',{  \n",
        "      'RED': image.select('B4'),  \n",
        "      'NIR': image.select('B8'),  \n",
        "    })\n",
        "\n",
        "  # return image.addBands(evi2.rename('EVI2'));\n",
        "\n",
        "withEVI2 = filtered.map(EVI2);\n",
        "size = withEVI2.size()\n",
        "print(size.getInfo())\n",
        "\n",
        "collection = withEVI2.select('EVI2');\n",
        "\n",
        "Map = geemap.Map()\n",
        "# Map\n",
        "vis = {\"min\": 0, \"max\": 1, \"palette\": [\n",
        "  'FFFFFF', 'CE7E45', 'FCD163', '66A000', '207401',\n",
        "  '056201', '004C00', '023B01', '012E01', '011301'\n",
        "]};\n",
        "\n",
        "Map.addLayer(withEVI2,vis,\"EVI2\")\n",
        "Map\n",
        "Map.addLayerControl()\n",
        "Map\n",
        "\n",
        "# geemap.ee_export_image_collection_to_drive(withEVI2, folder='export', scale=10)\n",
        "# # geemap.ee_export_image_to_drive(withEVI2,description='evi2', folder='export', scale=10)\n",
        "\n",
        "# print(\"finished\")"
      ],
      "metadata": {
        "colab": {
          "base_uri": "https://localhost:8080/",
          "height": 34,
          "referenced_widgets": [
            "288a1545a1314254a7cfeb091b4931a0",
            "e80c0728a2fc46afa2e43a8a39257898",
            "79a3e245998f468881a6562885240f3c",
            "467abc83b62e47aabebdfa2a7df9a053",
            "977c508782e546d0898f21590ac83428",
            "a4da02f9f73341c0857f2eeef601db9d",
            "0b352f32d891403986d97c28a8abd561",
            "a6777a45b8db4c1fa28e2e53a320fec4",
            "b9ad75d98dc74c70a69c10adc76ee605",
            "36505ad67efa4b0ca20b5fcfaec043c3",
            "d3d3d0f22d394fae8439e532b27a38b4",
            "4c20d41c5e7e4be49b9a544446e3e4c2",
            "3a74fc85d8e4448e8b1f4f181f6294ca",
            "a005e9a4c0054e23b8fe09145a9c04be",
            "8e8b78b64a364b01b629a58e840bfa84",
            "af387ab813c4446799f4c379beccf44a",
            "d50663b3b6b84f0286d340d46ea4ec7e",
            "26a25cbc34c54b4aa85c56f4e6cd08a6",
            "4d50d52e6b0b46cb9f1cc7c8e0e014ff",
            "fefc13c83e6e41028e9050f71b8a81a1",
            "1f8081d7698640b4bd586304bb22d9d3",
            "d494d95a43214758922109af9bb63be6",
            "cf287dc6d4c0432bad940b7054cfe596",
            "ce6f8b7eadd4460f96778bd421e3330d",
            "44b273e8b692431aadbed834e4e568fb",
            "b5626677b6ed4169822f292f4d3e181b",
            "8e0117d4367b451396be97dc5cf82ba5"
          ]
        },
        "id": "TSx1fXQoKEzq",
        "outputId": "b564a5b4-80c3-40cc-8793-4e5e710f0be0"
      },
      "execution_count": 76,
      "outputs": [
        {
          "output_type": "stream",
          "name": "stdout",
          "text": [
            "2502\n"
          ]
        },
        {
          "output_type": "display_data",
          "data": {
            "text/plain": [
              "Map(center=[20, 0], controls=(WidgetControl(options=['position', 'transparent_bg'], widget=HBox(children=(Togg…"
            ],
            "application/vnd.jupyter.widget-view+json": {
              "version_major": 2,
              "version_minor": 0,
              "model_id": "288a1545a1314254a7cfeb091b4931a0"
            }
          },
          "metadata": {
            "application/vnd.jupyter.widget-view+json": {
              "colab": {
                "custom_widget_manager": {
                  "url": "https://ssl.gstatic.com/colaboratory-static/widgets/colab-cdn-widget-manager/b3e629b1971e1542/manager.min.js"
                }
              }
            }
          }
        }
      ]
    },
    {
      "cell_type": "markdown",
      "source": [
        "# **GEE**"
      ],
      "metadata": {
        "id": "28C9KuBYCSFV"
      }
    },
    {
      "cell_type": "code",
      "source": [
        "\n",
        "import ee\n",
        "import geemap\n",
        "# import oeel\n",
        "\n",
        "Map = geemap.Map()\n",
        "# Map\n",
        "\n",
        "# SECTION 1 - Define parameters and setup\n",
        "\n",
        "vegIndex = 'evi2' \n",
        "th = 0.2 \n",
        "threshMin = 0.1\n",
        "scale = 50\n",
        "\n",
        "year1 = \"2020\" \n",
        "lag = 20 \n",
        "startDate = year1+'-01-01'\n",
        "endDate = year1+'-12-31'\n",
        "\n",
        "print(startDate,endDate)\n",
        "\n",
        "\n",
        "geom =ee.Geometry.Point([17.07398, 67.7578]);\n",
        "point = geom \n",
        "roi = point.buffer(100000).bounds() \n",
        "\n",
        "# SECTION 3 - Prepare Sentinel-2 data \n",
        "\n",
        "# roi = ee.Geometry.Polygon([[-97.72,31.61],[-82.85,31.61],[-82.85,37.67],[-97.72,37.61],[-97.72,31.61]])\n",
        "S2 = ee.ImageCollection(\"COPERNICUS/S2_SR\").filterDate(startDate,endDate).filterBounds(roi).filterMetadata('CLOUD_COVERAGE_ASSESSMENT','less_than',70).filterMetadata('SNOW_ICE_PERCENTAGE','less_than',90);\n",
        "\n",
        "\n",
        "# Mask non-valid observations and reclassify snow values\n",
        "\n",
        "def mask_no(im):\n",
        "  SCL = im.select('SCL')\n",
        "  SCLmask = SCL.eq(1).Or(SCL.eq(4)).Or(SCL.eq(5)).Or(SCL.eq(11)) #mask for non-valid observations\n",
        "  snowMask = SCL.eq(11) #snow \n",
        "    \n",
        "  blue = im.select('B2').multiply(0.0001)\n",
        "  green = im.select('B3').multiply(0.0001)\n",
        "  red = im.select('B4').multiply(0.0001)\n",
        "  nir = im.select('B8').multiply(0.0001)\n",
        "  swir = im.select('B12').multiply(0.0001)\n",
        "    \n",
        "  ndvi = im.normalizedDifference(['B8','B4']).rename('ndvi')\n",
        "  evi = (ee.Image(2.5).multiply(nir.subtract(red))).divide(nir.add(red.multiply(6)).subtract(blue.multiply(7.5)).add(1)).rename('evi')\n",
        "    \n",
        "  evi2 = (ee.Image(2.5).multiply(nir.subtract(red))).divide(nir.add(red.multiply(2.4)).add(1)).rename('evi2')\n",
        "    \n",
        "  gcc = green.divide(green.add(red).add(blue)).rename('gcc')\n",
        "  alpha = ee.Image(0.51) # alpha parameter in NDPI formula\n",
        "  ndpi = (nir.subtract(alpha.multiply(red).add((ee.Image(1).subtract(alpha)).multiply(swir)))).divide(nir.add(alpha.multiply(red).add((ee.Image(1).subtract(alpha)).multiply(swir)))).rename('ndpi')\n",
        "    \n",
        "    #  select VI of interest\n",
        "  bio = ndvi.addBands(evi2).addBands(evi).addBands(ndpi).addBands(gcc).select(vegIndex).rename('bio') \n",
        "\n",
        "  return bio.where(bio.lt(threshMin),threshMin).where(snowMask,threshMin).updateMask(SCLmask).set('system:time_start', im.get('system:time_start'))\n",
        "\n",
        "S2 = S2.map(mask_no)\n",
        "data=S2.size()\n",
        "print(data.getInfo())\n"
      ],
      "metadata": {
        "colab": {
          "base_uri": "https://localhost:8080/",
          "height": 52
        },
        "id": "DHOk7nUZBKiG",
        "outputId": "dd416f4b-7f58-4889-8e71-b166afb1f34f"
      },
      "execution_count": 93,
      "outputs": [
        {
          "output_type": "stream",
          "name": "stdout",
          "text": [
            "2020-01-01 2020-12-31\n",
            "1403\n"
          ]
        }
      ]
    },
    {
      "cell_type": "code",
      "source": [
        "# SECTION 4 - Generate composites\n",
        "\n",
        "# listDates = ee.List.sequence(ee.Date(startDate).millis(),ee.Date(endDate).millis(),86400000*lag)\n",
        "listDates = ee.List.sequence(ee.Date(startDate).millis(),ee.Date(endDate).millis(),86400000*lag)\n",
        "# print(listDates)\n",
        "\n",
        "#  map the dates\n",
        "\n",
        "def dds(dd):\n",
        "  date_window = ee.Date(ee.Number(dd)) \n",
        "  date_startW = date_window.advance(-lag/2, 'days') \n",
        "  date_endW = date_window.advance(lag/2, 'days') \n",
        "  col_window = S2.filterDate(date_startW,date_endW) \n",
        "  out = col_window.reduce(ee.Reducer.mean())\n",
        "  r = out.set('system:time_start',date_window.millis()).set('empty', col_window.size().eq(0))\n",
        " \n",
        "  # return r\n",
        "  return out.set('system:time_start',date_window.millis()).set('empty', col_window.size().eq(0))\n",
        "\n",
        "colDekadsRaw = ee.ImageCollection(listDates.map(dds))\n",
        "\n",
        "\n",
        "colDekadsRaw = colDekadsRaw.flatten()\n",
        "# colDekadsRaw\n",
        "\n",
        "colDekadsEmpty = colDekadsRaw.filterMetadata('empty', 'equals', 1).map(lambda im:ee.Image(threshMin).rename('bio_mean').copyProperties(im,['system:time_start']))\n",
        "\n",
        "colDekads = colDekadsRaw.filterMetadata('empty', 'equals', 0).merge(colDekadsEmpty)\n",
        "print(colDekads)\n",
        "# size = colDekads.size()\n",
        "# print(size.getInfo())\n"
      ],
      "metadata": {
        "id": "_hea_IclIFQD"
      },
      "execution_count": null,
      "outputs": []
    },
    {
      "cell_type": "code",
      "source": [
        "\n",
        "def i(im):\n",
        "  date_window = ee.Date(im.get('system:time_start'))\n",
        "  date_startW = date_window.advance(-lag*2, 'days')\n",
        "  date_endW = date_window.advance(lag*2, 'days')\n",
        "  \n",
        "  \n",
        "  meanIm1 = ee.Image(colDekads.filterDate(date_startW,date_window.advance(1, 'days'))).reduce(ee.Reducer.mean())\n",
        "  meanIm2 = ee.Image(colDekads.filterDate(date_window.advance(-1, 'days'),date_endW)).reduce(ee.Reducer.mean())\n",
        "  \n",
        "  meanIm = (meanIm1.add(meanIm2)).divide(2)\n",
        "  \n",
        "  return ee.Image(im).unmask(meanIm).copyProperties(im,['system:time_start'])\n",
        "\n",
        "colDekads = colDekads.map(i)\n",
        "colDekads = colDekads.sort('system:time_start')\n",
        "print(colDekads.getInfo())\n",
        "# Map.addLayer(colDekads,vis,\"colDekads\")\n",
        "# Map\n",
        "# Map.addLayerControl()\n",
        "# Map\n",
        "\n"
      ],
      "metadata": {
        "colab": {
          "base_uri": "https://localhost:8080/",
          "height": 469
        },
        "id": "MzCakphd_0ne",
        "outputId": "e13f6d45-1d47-4b76-c5c7-06b0da18fdcc"
      },
      "execution_count": 95,
      "outputs": [
        {
          "output_type": "error",
          "ename": "EEException",
          "evalue": "ignored",
          "traceback": [
            "\u001b[0;31m---------------------------------------------------------------------------\u001b[0m",
            "\u001b[0;31mHttpError\u001b[0m                                 Traceback (most recent call last)",
            "\u001b[0;32m/usr/local/lib/python3.8/dist-packages/ee/data.py\u001b[0m in \u001b[0;36m_execute_cloud_call\u001b[0;34m(call, num_retries)\u001b[0m\n\u001b[1;32m    325\u001b[0m   \u001b[0;32mtry\u001b[0m\u001b[0;34m:\u001b[0m\u001b[0;34m\u001b[0m\u001b[0;34m\u001b[0m\u001b[0m\n\u001b[0;32m--> 326\u001b[0;31m     \u001b[0;32mreturn\u001b[0m \u001b[0mcall\u001b[0m\u001b[0;34m.\u001b[0m\u001b[0mexecute\u001b[0m\u001b[0;34m(\u001b[0m\u001b[0mnum_retries\u001b[0m\u001b[0;34m=\u001b[0m\u001b[0mnum_retries\u001b[0m\u001b[0;34m)\u001b[0m\u001b[0;34m\u001b[0m\u001b[0;34m\u001b[0m\u001b[0m\n\u001b[0m\u001b[1;32m    327\u001b[0m   \u001b[0;32mexcept\u001b[0m \u001b[0mgoogleapiclient\u001b[0m\u001b[0;34m.\u001b[0m\u001b[0merrors\u001b[0m\u001b[0;34m.\u001b[0m\u001b[0mHttpError\u001b[0m \u001b[0;32mas\u001b[0m \u001b[0me\u001b[0m\u001b[0;34m:\u001b[0m\u001b[0;34m\u001b[0m\u001b[0;34m\u001b[0m\u001b[0m\n",
            "\u001b[0;32m/usr/local/lib/python3.8/dist-packages/googleapiclient/_helpers.py\u001b[0m in \u001b[0;36mpositional_wrapper\u001b[0;34m(*args, **kwargs)\u001b[0m\n\u001b[1;32m    133\u001b[0m                     \u001b[0mlogger\u001b[0m\u001b[0;34m.\u001b[0m\u001b[0mwarning\u001b[0m\u001b[0;34m(\u001b[0m\u001b[0mmessage\u001b[0m\u001b[0;34m)\u001b[0m\u001b[0;34m\u001b[0m\u001b[0;34m\u001b[0m\u001b[0m\n\u001b[0;32m--> 134\u001b[0;31m             \u001b[0;32mreturn\u001b[0m \u001b[0mwrapped\u001b[0m\u001b[0;34m(\u001b[0m\u001b[0;34m*\u001b[0m\u001b[0margs\u001b[0m\u001b[0;34m,\u001b[0m \u001b[0;34m**\u001b[0m\u001b[0mkwargs\u001b[0m\u001b[0;34m)\u001b[0m\u001b[0;34m\u001b[0m\u001b[0;34m\u001b[0m\u001b[0m\n\u001b[0m\u001b[1;32m    135\u001b[0m \u001b[0;34m\u001b[0m\u001b[0m\n",
            "\u001b[0;32m/usr/local/lib/python3.8/dist-packages/googleapiclient/http.py\u001b[0m in \u001b[0;36mexecute\u001b[0;34m(self, http, num_retries)\u001b[0m\n\u001b[1;32m    914\u001b[0m         \u001b[0;32mif\u001b[0m \u001b[0mresp\u001b[0m\u001b[0;34m.\u001b[0m\u001b[0mstatus\u001b[0m \u001b[0;34m>=\u001b[0m \u001b[0;36m300\u001b[0m\u001b[0;34m:\u001b[0m\u001b[0;34m\u001b[0m\u001b[0;34m\u001b[0m\u001b[0m\n\u001b[0;32m--> 915\u001b[0;31m             \u001b[0;32mraise\u001b[0m \u001b[0mHttpError\u001b[0m\u001b[0;34m(\u001b[0m\u001b[0mresp\u001b[0m\u001b[0;34m,\u001b[0m \u001b[0mcontent\u001b[0m\u001b[0;34m,\u001b[0m \u001b[0muri\u001b[0m\u001b[0;34m=\u001b[0m\u001b[0mself\u001b[0m\u001b[0;34m.\u001b[0m\u001b[0muri\u001b[0m\u001b[0;34m)\u001b[0m\u001b[0;34m\u001b[0m\u001b[0;34m\u001b[0m\u001b[0m\n\u001b[0m\u001b[1;32m    916\u001b[0m         \u001b[0;32mreturn\u001b[0m \u001b[0mself\u001b[0m\u001b[0;34m.\u001b[0m\u001b[0mpostproc\u001b[0m\u001b[0;34m(\u001b[0m\u001b[0mresp\u001b[0m\u001b[0;34m,\u001b[0m \u001b[0mcontent\u001b[0m\u001b[0;34m)\u001b[0m\u001b[0;34m\u001b[0m\u001b[0;34m\u001b[0m\u001b[0m\n",
            "\u001b[0;31mHttpError\u001b[0m: <HttpError 400 when requesting https://earthengine.googleapis.com/v1alpha/projects/earthengine-legacy/value:compute?prettyPrint=false&alt=json returned \"The input collection must be a collection of collections, but the element with id 0 was <Image<no bands>>, which is not a collection.\". Details: \"The input collection must be a collection of collections, but the element with id 0 was <Image<no bands>>, which is not a collection.\">",
            "\nDuring handling of the above exception, another exception occurred:\n",
            "\u001b[0;31mEEException\u001b[0m                               Traceback (most recent call last)",
            "\u001b[0;32m<ipython-input-95-44a8b630a074>\u001b[0m in \u001b[0;36m<module>\u001b[0;34m\u001b[0m\n\u001b[1;32m     14\u001b[0m \u001b[0mcolDekads\u001b[0m \u001b[0;34m=\u001b[0m \u001b[0mcolDekads\u001b[0m\u001b[0;34m.\u001b[0m\u001b[0mmap\u001b[0m\u001b[0;34m(\u001b[0m\u001b[0mi\u001b[0m\u001b[0;34m)\u001b[0m\u001b[0;34m\u001b[0m\u001b[0;34m\u001b[0m\u001b[0m\n\u001b[1;32m     15\u001b[0m \u001b[0mcolDekads\u001b[0m \u001b[0;34m=\u001b[0m \u001b[0mcolDekads\u001b[0m\u001b[0;34m.\u001b[0m\u001b[0msort\u001b[0m\u001b[0;34m(\u001b[0m\u001b[0;34m'system:time_start'\u001b[0m\u001b[0;34m)\u001b[0m\u001b[0;34m\u001b[0m\u001b[0;34m\u001b[0m\u001b[0m\n\u001b[0;32m---> 16\u001b[0;31m \u001b[0mprint\u001b[0m\u001b[0;34m(\u001b[0m\u001b[0mcolDekads\u001b[0m\u001b[0;34m.\u001b[0m\u001b[0mgetInfo\u001b[0m\u001b[0;34m(\u001b[0m\u001b[0;34m)\u001b[0m\u001b[0;34m)\u001b[0m\u001b[0;34m\u001b[0m\u001b[0;34m\u001b[0m\u001b[0m\n\u001b[0m\u001b[1;32m     17\u001b[0m \u001b[0;31m# Map.addLayer(colDekads,vis,\"colDekads\")\u001b[0m\u001b[0;34m\u001b[0m\u001b[0;34m\u001b[0m\u001b[0;34m\u001b[0m\u001b[0m\n\u001b[1;32m     18\u001b[0m \u001b[0;31m# Map\u001b[0m\u001b[0;34m\u001b[0m\u001b[0;34m\u001b[0m\u001b[0;34m\u001b[0m\u001b[0m\n",
            "\u001b[0;32m/usr/local/lib/python3.8/dist-packages/ee/collection.py\u001b[0m in \u001b[0;36mgetInfo\u001b[0;34m(self)\u001b[0m\n\u001b[1;32m    131\u001b[0m            \u001b[0mproperties\u001b[0m\u001b[0;34m.\u001b[0m\u001b[0;34m\u001b[0m\u001b[0;34m\u001b[0m\u001b[0m\n\u001b[1;32m    132\u001b[0m     \"\"\"\n\u001b[0;32m--> 133\u001b[0;31m     \u001b[0;32mreturn\u001b[0m \u001b[0msuper\u001b[0m\u001b[0;34m(\u001b[0m\u001b[0mCollection\u001b[0m\u001b[0;34m,\u001b[0m \u001b[0mself\u001b[0m\u001b[0;34m)\u001b[0m\u001b[0;34m.\u001b[0m\u001b[0mgetInfo\u001b[0m\u001b[0;34m(\u001b[0m\u001b[0;34m)\u001b[0m\u001b[0;34m\u001b[0m\u001b[0;34m\u001b[0m\u001b[0m\n\u001b[0m\u001b[1;32m    134\u001b[0m \u001b[0;34m\u001b[0m\u001b[0m\n\u001b[1;32m    135\u001b[0m   \u001b[0;32mdef\u001b[0m \u001b[0mlimit\u001b[0m\u001b[0;34m(\u001b[0m\u001b[0mself\u001b[0m\u001b[0;34m,\u001b[0m \u001b[0mmaximum\u001b[0m\u001b[0;34m,\u001b[0m \u001b[0mopt_property\u001b[0m\u001b[0;34m=\u001b[0m\u001b[0;32mNone\u001b[0m\u001b[0;34m,\u001b[0m \u001b[0mopt_ascending\u001b[0m\u001b[0;34m=\u001b[0m\u001b[0;32mNone\u001b[0m\u001b[0;34m)\u001b[0m\u001b[0;34m:\u001b[0m\u001b[0;34m\u001b[0m\u001b[0;34m\u001b[0m\u001b[0m\n",
            "\u001b[0;32m/usr/local/lib/python3.8/dist-packages/ee/computedobject.py\u001b[0m in \u001b[0;36mgetInfo\u001b[0;34m(self)\u001b[0m\n\u001b[1;32m     94\u001b[0m       \u001b[0mThe\u001b[0m \u001b[0mobject\u001b[0m \u001b[0mcan\u001b[0m \u001b[0mevaluate\u001b[0m \u001b[0mto\u001b[0m \u001b[0manything\u001b[0m\u001b[0;34m.\u001b[0m\u001b[0;34m\u001b[0m\u001b[0;34m\u001b[0m\u001b[0m\n\u001b[1;32m     95\u001b[0m     \"\"\"\n\u001b[0;32m---> 96\u001b[0;31m     \u001b[0;32mreturn\u001b[0m \u001b[0mdata\u001b[0m\u001b[0;34m.\u001b[0m\u001b[0mcomputeValue\u001b[0m\u001b[0;34m(\u001b[0m\u001b[0mself\u001b[0m\u001b[0;34m)\u001b[0m\u001b[0;34m\u001b[0m\u001b[0;34m\u001b[0m\u001b[0m\n\u001b[0m\u001b[1;32m     97\u001b[0m \u001b[0;34m\u001b[0m\u001b[0m\n\u001b[1;32m     98\u001b[0m   \u001b[0;32mdef\u001b[0m \u001b[0mencode\u001b[0m\u001b[0;34m(\u001b[0m\u001b[0mself\u001b[0m\u001b[0;34m,\u001b[0m \u001b[0mencoder\u001b[0m\u001b[0;34m)\u001b[0m\u001b[0;34m:\u001b[0m\u001b[0;34m\u001b[0m\u001b[0;34m\u001b[0m\u001b[0m\n",
            "\u001b[0;32m/usr/local/lib/python3.8/dist-packages/ee/data.py\u001b[0m in \u001b[0;36mcomputeValue\u001b[0;34m(obj)\u001b[0m\n\u001b[1;32m    774\u001b[0m   \u001b[0m_maybe_populate_workload_tag\u001b[0m\u001b[0;34m(\u001b[0m\u001b[0mbody\u001b[0m\u001b[0;34m)\u001b[0m\u001b[0;34m\u001b[0m\u001b[0;34m\u001b[0m\u001b[0m\n\u001b[1;32m    775\u001b[0m \u001b[0;34m\u001b[0m\u001b[0m\n\u001b[0;32m--> 776\u001b[0;31m   return _execute_cloud_call(\n\u001b[0m\u001b[1;32m    777\u001b[0m       _get_cloud_api_resource().projects().value().compute(\n\u001b[1;32m    778\u001b[0m           \u001b[0mbody\u001b[0m\u001b[0;34m=\u001b[0m\u001b[0mbody\u001b[0m\u001b[0;34m,\u001b[0m\u001b[0;34m\u001b[0m\u001b[0;34m\u001b[0m\u001b[0m\n",
            "\u001b[0;32m/usr/local/lib/python3.8/dist-packages/ee/data.py\u001b[0m in \u001b[0;36m_execute_cloud_call\u001b[0;34m(call, num_retries)\u001b[0m\n\u001b[1;32m    326\u001b[0m     \u001b[0;32mreturn\u001b[0m \u001b[0mcall\u001b[0m\u001b[0;34m.\u001b[0m\u001b[0mexecute\u001b[0m\u001b[0;34m(\u001b[0m\u001b[0mnum_retries\u001b[0m\u001b[0;34m=\u001b[0m\u001b[0mnum_retries\u001b[0m\u001b[0;34m)\u001b[0m\u001b[0;34m\u001b[0m\u001b[0;34m\u001b[0m\u001b[0m\n\u001b[1;32m    327\u001b[0m   \u001b[0;32mexcept\u001b[0m \u001b[0mgoogleapiclient\u001b[0m\u001b[0;34m.\u001b[0m\u001b[0merrors\u001b[0m\u001b[0;34m.\u001b[0m\u001b[0mHttpError\u001b[0m \u001b[0;32mas\u001b[0m \u001b[0me\u001b[0m\u001b[0;34m:\u001b[0m\u001b[0;34m\u001b[0m\u001b[0;34m\u001b[0m\u001b[0m\n\u001b[0;32m--> 328\u001b[0;31m     \u001b[0;32mraise\u001b[0m \u001b[0m_translate_cloud_exception\u001b[0m\u001b[0;34m(\u001b[0m\u001b[0me\u001b[0m\u001b[0;34m)\u001b[0m\u001b[0;34m\u001b[0m\u001b[0;34m\u001b[0m\u001b[0m\n\u001b[0m\u001b[1;32m    329\u001b[0m \u001b[0;34m\u001b[0m\u001b[0m\n\u001b[1;32m    330\u001b[0m \u001b[0;34m\u001b[0m\u001b[0m\n",
            "\u001b[0;31mEEException\u001b[0m: The input collection must be a collection of collections, but the element with id 0 was <Image<no bands>>, which is not a collection."
          ]
        }
      ]
    },
    {
      "cell_type": "code",
      "source": [
        "# SECTION 2 - Define function for cubic interpolation\n",
        "\n",
        "def divide_fun(x,diff12,a,b,c,d,xDates):\n",
        "  im = ee.Image(ee.Number(x).divide(diff12));\n",
        "  return (im.pow(3)).multiply(a).add((im.pow(2)).multiply(b)).add(im.multiply(c)).add(d).set('system:time_start',ee.Number(ee.Date(xDates).get(x)));\n",
        "\n",
        "def ii(ii,step):\n",
        "  ii = ee.Number(ii);\n",
        "  p0 = ee.Image(collection.toList(10000).get(ee.Number(ii).subtract(1)));\n",
        "  p1 = ee.Image(collection.toList(10000).get(ii));\n",
        "  p2 = ee.Image(collection.toList(10000).get(ee.Number(ii).add(1)));\n",
        "  p3 = ee.Image(collection.toList(10000).get(ee.Number(ii).add(2)));\n",
        "  \n",
        "  diff01 = ee.Date(p1.get('system:time_start')).difference(ee.Date(p0.get('system:time_start')), 'day');\n",
        "  diff12 = ee.Date(p2.get('system:time_start')).difference(ee.Date(p1.get('system:time_start')), 'day');\n",
        "  diff23 = ee.Date(p3.get('system:time_start')).difference(ee.Date(p2.get('system:time_start')), 'day');\n",
        "    \n",
        "  diff01nor = diff01.divide(diff12);\n",
        "  diff12nor = diff12.divide(diff12);\n",
        "  diff23nor = diff23.divide(diff12);\n",
        "    \n",
        "  f0 = p1;\n",
        "  f1 = p2;\n",
        "  f0p = (p2.subtract(p0)).divide(diff01nor.add(diff12nor));\n",
        "  f1p = (p3.subtract(p1)).divide(diff12nor.add(diff23nor));\n",
        "  \n",
        "  a = (f0.multiply(2)).subtract(f1.multiply(2)).add(f0p).add(f1p);\n",
        "  b = (f0.multiply(-3)).add(f1.multiply(3)).subtract(f0p.multiply(2)).subtract(f1p);\n",
        "  c = f0p;\n",
        "  d = f0;\n",
        "    \n",
        "  xValues = ee.List.sequence(0,diff12.subtract(1),step); \n",
        "  xDates = ee.List.sequence(p1.get('system:time_start'),p2.get('system:time_start'),86400000);\n",
        "  \n",
        "  interp = (xValues.map(divide_fun));\n",
        "  \n",
        "  return interp \n",
        "\n",
        "def cubicInterpolation(collection,step):\n",
        "  listDekads = ee.List.sequence(1,collection.size().subtract(3),1);\n",
        "  colInterp = listDekads.map(ii)\n",
        "\n",
        "  colInterp = ee.ImageCollection(colInterp.flatten());\n",
        "  \n",
        "  return colInterp\n",
        "\n",
        "\n",
        "# SECTION 6 - Interpolate time series\n",
        "\n",
        "interp = cubicInterpolation(colDekads,1)\n",
        "print(interp)"
      ],
      "metadata": {
        "colab": {
          "base_uri": "https://localhost:8080/"
        },
        "id": "HvamoUmn4IQI",
        "outputId": "193db6bf-84b1-43ac-caeb-b0e89fdf458f"
      },
      "execution_count": 96,
      "outputs": [
        {
          "output_type": "stream",
          "name": "stderr",
          "text": [
            "IOPub data rate exceeded.\n",
            "The notebook server will temporarily stop sending output\n",
            "to the client in order to avoid crashing it.\n",
            "To change this limit, set the config variable\n",
            "`--NotebookApp.iopub_data_rate_limit`.\n",
            "\n",
            "Current values:\n",
            "NotebookApp.iopub_data_rate_limit=1000000.0 (bytes/sec)\n",
            "NotebookApp.rate_limit_window=3.0 (secs)\n",
            "\n"
          ]
        }
      ]
    },
    {
      "cell_type": "code",
      "source": [
        "# SECTION 7 - Estimate phenology metrics\n",
        "\n",
        "init = ee.Image(ee.Date(str((int(year1)-1))+'-12-31').millis());\n",
        "\n",
        "def EVI2_interp(im):\n",
        "  return im.rename('bio_interp').addBands(im.metadata('system:time_start','date1')).set('system:time_start', im.get('system:time_start'))\n",
        "\n",
        "minND = ee.Image(threshMin)\n",
        "maxND = max(colDekads)\n",
        "# maxND = colDekads.max()\n",
        "amplitude = maxND.subtract(minND)\n",
        "\n",
        "thresh = amplitude.multiply(th).add(minND).rename('bio_interp')\n",
        "\n",
        "def th_interp(im):\n",
        "  out = im.select('bio_interp').gt(thresh);\n",
        "  return im.updateMask(out).copyProperties(im,['system:time_start'])\n",
        "\n",
        "\n",
        "col_aboveThresh = interp.map(th_interp)\n",
        "print(col_aboveThresh)\n",
        "\n",
        "SoS = col_aboveThresh.reduce(ee.Reducer.firstNonNull()).select('date1_first').rename('SoS')\n",
        "SoS_doy = SoS.subtract(init).divide(86400000);\n",
        "\n",
        "EoS = col_aboveThresh.reduce(ee.Reducer.lastNonNull()).select('date1_last').rename('EoS')\n",
        "EoS_doy = EoS.subtract(init).divide(86400000); \n",
        "\n",
        "phenoPalette = ['ff0000','ff8d00','fbff00','4aff00','00ffe7','01b8ff','0036ff','fb00ff']\n",
        "visSoS = {\"min\":120,\"max\":200,\"palette\":phenoPalette}\n",
        "visEoS = {\"min\":180,max:300,\"palette\":phenoPalette}\n",
        "Map.addLayer(SoS_doy,visSoS,'SoS',true)\n",
        "Map.addLayer(EoS_doy,visEoS,'EoS',false)\n",
        "Map"
      ],
      "metadata": {
        "id": "bRgdOrdKD9Dj"
      },
      "execution_count": null,
      "outputs": []
    }
  ]
}